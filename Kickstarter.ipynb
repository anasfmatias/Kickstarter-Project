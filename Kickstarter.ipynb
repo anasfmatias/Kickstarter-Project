{
 "cells": [
  {
   "cell_type": "markdown",
   "metadata": {},
   "source": [
    "# KickStarter Project"
   ]
  },
  {
   "cell_type": "markdown",
   "metadata": {},
   "source": [
    "## Table of Contents\n",
    "1. Import Libraries ad Data\n",
    "2. Explorative Data Analysis\n",
    "3. Feature analysis\n",
    "4. Data visualization\n",
    "5. Partition dataset into train / test sets\n",
    "6. Modelling and Hyperparameter Optimization\n",
    "7. Conclusion"
   ]
  },
  {
   "cell_type": "markdown",
   "metadata": {},
   "source": [
    "# 1. Import Libraries and Data"
   ]
  },
  {
   "cell_type": "markdown",
   "metadata": {},
   "source": [
    "# 1.1. Import Libraries"
   ]
  },
  {
   "cell_type": "code",
   "execution_count": 1,
   "metadata": {},
   "outputs": [],
   "source": [
    "import pandas as pd\n",
    "import numpy as np\n",
    "import matplotlib.pyplot as plt\n",
    "from scipy import stats\n",
    "from matplotlib import rcParams, cycler\n",
    "from matplotlib.ticker import StrMethodFormatter\n",
    "import seaborn as sns\n",
    "import datetime as dt\n",
    "sns.set_style('whitegrid')\n",
    "%matplotlib inline"
   ]
  },
  {
   "cell_type": "markdown",
   "metadata": {},
   "source": [
    "## 1.2. Load Data"
   ]
  },
  {
   "cell_type": "markdown",
   "metadata": {},
   "source": [
    "The present project analyse the dataset of Kickstarter projects, one of the most renown platforms to for promoting(mostly) creative, smart and visionary ideas and concepts."
   ]
  },
  {
   "cell_type": "code",
   "execution_count": 2,
   "metadata": {},
   "outputs": [],
   "source": [
    "#importing data\n",
    "df = pd.read_csv('/Users/anamatias/Documents/github/Kickstarter_Project/DSI_kickstarterscrape_dataset.csv',encoding='latin1', index_col = 0)"
   ]
  },
  {
   "cell_type": "markdown",
   "metadata": {},
   "source": [
    "# 2. Explorative Data Analysis (EDA)"
   ]
  },
  {
   "cell_type": "code",
   "execution_count": 3,
   "metadata": {},
   "outputs": [
    {
     "data": {
      "text/html": [
       "<div>\n",
       "<style scoped>\n",
       "    .dataframe tbody tr th:only-of-type {\n",
       "        vertical-align: middle;\n",
       "    }\n",
       "\n",
       "    .dataframe tbody tr th {\n",
       "        vertical-align: top;\n",
       "    }\n",
       "\n",
       "    .dataframe thead th {\n",
       "        text-align: right;\n",
       "    }\n",
       "</style>\n",
       "<table border=\"1\" class=\"dataframe\">\n",
       "  <thead>\n",
       "    <tr style=\"text-align: right;\">\n",
       "      <th></th>\n",
       "      <th>name</th>\n",
       "      <th>url</th>\n",
       "      <th>category</th>\n",
       "      <th>subcategory</th>\n",
       "      <th>location</th>\n",
       "      <th>status</th>\n",
       "      <th>goal</th>\n",
       "      <th>pledged</th>\n",
       "      <th>funded percentage</th>\n",
       "      <th>backers</th>\n",
       "      <th>funded date</th>\n",
       "      <th>levels</th>\n",
       "      <th>reward levels</th>\n",
       "      <th>updates</th>\n",
       "      <th>comments</th>\n",
       "      <th>duration</th>\n",
       "    </tr>\n",
       "    <tr>\n",
       "      <th>project id</th>\n",
       "      <th></th>\n",
       "      <th></th>\n",
       "      <th></th>\n",
       "      <th></th>\n",
       "      <th></th>\n",
       "      <th></th>\n",
       "      <th></th>\n",
       "      <th></th>\n",
       "      <th></th>\n",
       "      <th></th>\n",
       "      <th></th>\n",
       "      <th></th>\n",
       "      <th></th>\n",
       "      <th></th>\n",
       "      <th></th>\n",
       "      <th></th>\n",
       "    </tr>\n",
       "  </thead>\n",
       "  <tbody>\n",
       "    <tr>\n",
       "      <th>39409</th>\n",
       "      <td>WHILE THE TREES SLEEP</td>\n",
       "      <td>http://www.kickstarter.com/projects/emiliesaba...</td>\n",
       "      <td>Film &amp; Video</td>\n",
       "      <td>Short Film</td>\n",
       "      <td>Columbia, MO</td>\n",
       "      <td>successful</td>\n",
       "      <td>10500.0</td>\n",
       "      <td>11545.0</td>\n",
       "      <td>1.099524</td>\n",
       "      <td>66</td>\n",
       "      <td>Fri, 19 Aug 2011 19:28:17 -0000</td>\n",
       "      <td>7</td>\n",
       "      <td>$25,$50,$100,$250,$500,$1,000,$2,500</td>\n",
       "      <td>10</td>\n",
       "      <td>2</td>\n",
       "      <td>30.00</td>\n",
       "    </tr>\n",
       "    <tr>\n",
       "      <th>126581</th>\n",
       "      <td>Educational Online Trading Card Game</td>\n",
       "      <td>http://www.kickstarter.com/projects/972789543/...</td>\n",
       "      <td>Games</td>\n",
       "      <td>Board &amp; Card Games</td>\n",
       "      <td>Maplewood, NJ</td>\n",
       "      <td>failed</td>\n",
       "      <td>4000.0</td>\n",
       "      <td>20.0</td>\n",
       "      <td>0.005000</td>\n",
       "      <td>2</td>\n",
       "      <td>Mon, 02 Aug 2010 03:59:00 -0000</td>\n",
       "      <td>5</td>\n",
       "      <td>$1,$5,$10,$25,$50</td>\n",
       "      <td>6</td>\n",
       "      <td>0</td>\n",
       "      <td>47.18</td>\n",
       "    </tr>\n",
       "    <tr>\n",
       "      <th>138119</th>\n",
       "      <td>STRUM</td>\n",
       "      <td>http://www.kickstarter.com/projects/185476022/...</td>\n",
       "      <td>Film &amp; Video</td>\n",
       "      <td>Animation</td>\n",
       "      <td>Los Angeles, CA</td>\n",
       "      <td>live</td>\n",
       "      <td>20000.0</td>\n",
       "      <td>56.0</td>\n",
       "      <td>0.002800</td>\n",
       "      <td>3</td>\n",
       "      <td>Fri, 08 Jun 2012 00:00:31 -0000</td>\n",
       "      <td>10</td>\n",
       "      <td>$1,$10,$25,$40,$50,$100,$250,$1,000,$1,337,$9,001</td>\n",
       "      <td>1</td>\n",
       "      <td>0</td>\n",
       "      <td>28.00</td>\n",
       "    </tr>\n",
       "    <tr>\n",
       "      <th>237090</th>\n",
       "      <td>GETTING OVER - One son's search to finally kno...</td>\n",
       "      <td>http://www.kickstarter.com/projects/charnick/g...</td>\n",
       "      <td>Film &amp; Video</td>\n",
       "      <td>Documentary</td>\n",
       "      <td>Los Angeles, CA</td>\n",
       "      <td>successful</td>\n",
       "      <td>6000.0</td>\n",
       "      <td>6535.0</td>\n",
       "      <td>1.089167</td>\n",
       "      <td>100</td>\n",
       "      <td>Sun, 08 Apr 2012 02:14:00 -0000</td>\n",
       "      <td>13</td>\n",
       "      <td>$1,$10,$25,$30,$50,$75,$85,$100,$110,$250,$500...</td>\n",
       "      <td>4</td>\n",
       "      <td>0</td>\n",
       "      <td>32.22</td>\n",
       "    </tr>\n",
       "    <tr>\n",
       "      <th>246101</th>\n",
       "      <td>The Launch of FlyeGrlRoyalty &amp;quot;The New Nam...</td>\n",
       "      <td>http://www.kickstarter.com/projects/flyegrlroy...</td>\n",
       "      <td>Fashion</td>\n",
       "      <td>Fashion</td>\n",
       "      <td>Novi, MI</td>\n",
       "      <td>failed</td>\n",
       "      <td>3500.0</td>\n",
       "      <td>0.0</td>\n",
       "      <td>0.000000</td>\n",
       "      <td>0</td>\n",
       "      <td>Wed, 01 Jun 2011 15:25:39 -0000</td>\n",
       "      <td>6</td>\n",
       "      <td>$10,$25,$50,$100,$150,$250</td>\n",
       "      <td>2</td>\n",
       "      <td>0</td>\n",
       "      <td>30.00</td>\n",
       "    </tr>\n",
       "  </tbody>\n",
       "</table>\n",
       "</div>"
      ],
      "text/plain": [
       "                                                         name  \\\n",
       "project id                                                      \n",
       "39409                                   WHILE THE TREES SLEEP   \n",
       "126581                   Educational Online Trading Card Game   \n",
       "138119                                                  STRUM   \n",
       "237090      GETTING OVER - One son's search to finally kno...   \n",
       "246101      The Launch of FlyeGrlRoyalty &quot;The New Nam...   \n",
       "\n",
       "                                                          url      category  \\\n",
       "project id                                                                    \n",
       "39409       http://www.kickstarter.com/projects/emiliesaba...  Film & Video   \n",
       "126581      http://www.kickstarter.com/projects/972789543/...         Games   \n",
       "138119      http://www.kickstarter.com/projects/185476022/...  Film & Video   \n",
       "237090      http://www.kickstarter.com/projects/charnick/g...  Film & Video   \n",
       "246101      http://www.kickstarter.com/projects/flyegrlroy...       Fashion   \n",
       "\n",
       "                   subcategory         location      status     goal  pledged  \\\n",
       "project id                                                                      \n",
       "39409               Short Film     Columbia, MO  successful  10500.0  11545.0   \n",
       "126581      Board & Card Games    Maplewood, NJ      failed   4000.0     20.0   \n",
       "138119               Animation  Los Angeles, CA        live  20000.0     56.0   \n",
       "237090             Documentary  Los Angeles, CA  successful   6000.0   6535.0   \n",
       "246101                 Fashion         Novi, MI      failed   3500.0      0.0   \n",
       "\n",
       "            funded percentage  backers                      funded date  \\\n",
       "project id                                                                \n",
       "39409                1.099524       66  Fri, 19 Aug 2011 19:28:17 -0000   \n",
       "126581               0.005000        2  Mon, 02 Aug 2010 03:59:00 -0000   \n",
       "138119               0.002800        3  Fri, 08 Jun 2012 00:00:31 -0000   \n",
       "237090               1.089167      100  Sun, 08 Apr 2012 02:14:00 -0000   \n",
       "246101               0.000000        0  Wed, 01 Jun 2011 15:25:39 -0000   \n",
       "\n",
       "            levels                                      reward levels  \\\n",
       "project id                                                              \n",
       "39409            7               $25,$50,$100,$250,$500,$1,000,$2,500   \n",
       "126581           5                                  $1,$5,$10,$25,$50   \n",
       "138119          10  $1,$10,$25,$40,$50,$100,$250,$1,000,$1,337,$9,001   \n",
       "237090          13  $1,$10,$25,$30,$50,$75,$85,$100,$110,$250,$500...   \n",
       "246101           6                         $10,$25,$50,$100,$150,$250   \n",
       "\n",
       "            updates  comments  duration  \n",
       "project id                               \n",
       "39409            10         2     30.00  \n",
       "126581            6         0     47.18  \n",
       "138119            1         0     28.00  \n",
       "237090            4         0     32.22  \n",
       "246101            2         0     30.00  "
      ]
     },
     "execution_count": 3,
     "metadata": {},
     "output_type": "execute_result"
    }
   ],
   "source": [
    "# show first 5 observations of dataframe for exploration purposes\n",
    "df.head()"
   ]
  },
  {
   "cell_type": "code",
   "execution_count": 4,
   "metadata": {},
   "outputs": [
    {
     "name": "stdout",
     "output_type": "stream",
     "text": [
      "Dimension of the dataset: (45957, 16)\n"
     ]
    }
   ],
   "source": [
    "#check how many rows and columns\n",
    "print('Dimension of the dataset:', df.shape)"
   ]
  },
  {
   "cell_type": "code",
   "execution_count": 5,
   "metadata": {},
   "outputs": [
    {
     "data": {
      "text/plain": [
       "Index(['name', 'url', 'category', 'subcategory', 'location', 'status', 'goal',\n",
       "       'pledged', 'funded percentage', 'backers', 'funded date', 'levels',\n",
       "       'reward levels', 'updates', 'comments', 'duration'],\n",
       "      dtype='object')"
      ]
     },
     "execution_count": 5,
     "metadata": {},
     "output_type": "execute_result"
    }
   ],
   "source": [
    "# name of the columns\n",
    "df.columns"
   ]
  },
  {
   "cell_type": "code",
   "execution_count": 6,
   "metadata": {},
   "outputs": [
    {
     "name": "stdout",
     "output_type": "stream",
     "text": [
      "<class 'pandas.core.frame.DataFrame'>\n",
      "Int64Index: 45957 entries, 39409 to 2147460119\n",
      "Data columns (total 16 columns):\n",
      " #   Column             Non-Null Count  Dtype  \n",
      "---  ------             --------------  -----  \n",
      " 0   name               45957 non-null  object \n",
      " 1   url                45957 non-null  object \n",
      " 2   category           45957 non-null  object \n",
      " 3   subcategory        45957 non-null  object \n",
      " 4   location           44635 non-null  object \n",
      " 5   status             45957 non-null  object \n",
      " 6   goal               45957 non-null  float64\n",
      " 7   pledged            45945 non-null  float64\n",
      " 8   funded percentage  45957 non-null  float64\n",
      " 9   backers            45957 non-null  int64  \n",
      " 10  funded date        45957 non-null  object \n",
      " 11  levels             45957 non-null  int64  \n",
      " 12  reward levels      45898 non-null  object \n",
      " 13  updates            45957 non-null  int64  \n",
      " 14  comments           45957 non-null  int64  \n",
      " 15  duration           45957 non-null  float64\n",
      "dtypes: float64(4), int64(4), object(8)\n",
      "memory usage: 6.0+ MB\n"
     ]
    }
   ],
   "source": [
    "#get some info\n",
    "df.info()"
   ]
  },
  {
   "cell_type": "code",
   "execution_count": 7,
   "metadata": {},
   "outputs": [
    {
     "data": {
      "text/plain": [
       "location             1322\n",
       "reward levels          59\n",
       "pledged                12\n",
       "duration                0\n",
       "comments                0\n",
       "updates                 0\n",
       "levels                  0\n",
       "funded date             0\n",
       "backers                 0\n",
       "funded percentage       0\n",
       "goal                    0\n",
       "status                  0\n",
       "subcategory             0\n",
       "category                0\n",
       "url                     0\n",
       "name                    0\n",
       "dtype: int64"
      ]
     },
     "execution_count": 7,
     "metadata": {},
     "output_type": "execute_result"
    }
   ],
   "source": [
    "#number of missing values per column\n",
    "df.isnull().sum().sort_values(ascending = False)"
   ]
  },
  {
   "cell_type": "code",
   "execution_count": 8,
   "metadata": {},
   "outputs": [],
   "source": [
    "#remove the rows with the missing values\n",
    "df.dropna(inplace = True)"
   ]
  },
  {
   "cell_type": "code",
   "execution_count": 9,
   "metadata": {},
   "outputs": [
    {
     "data": {
      "text/plain": [
       "88"
      ]
     },
     "execution_count": 9,
     "metadata": {},
     "output_type": "execute_result"
    }
   ],
   "source": [
    "#look for duplicate values\n",
    "df.duplicated().sum()"
   ]
  },
  {
   "cell_type": "code",
   "execution_count": 10,
   "metadata": {},
   "outputs": [],
   "source": [
    "#drop the duplicated rows\n",
    "df = df.drop_duplicates(subset=None, keep='first')"
   ]
  },
  {
   "cell_type": "code",
   "execution_count": 11,
   "metadata": {},
   "outputs": [
    {
     "data": {
      "text/plain": [
       "url                  44441\n",
       "name                 44382\n",
       "funded date          40017\n",
       "reward levels        27685\n",
       "funded percentage    21517\n",
       "pledged              10828\n",
       "duration              5758\n",
       "location              4847\n",
       "goal                  1794\n",
       "backers                966\n",
       "comments               310\n",
       "updates                 83\n",
       "levels                  63\n",
       "subcategory             51\n",
       "category                14\n",
       "status                   5\n",
       "dtype: int64"
      ]
     },
     "execution_count": 11,
     "metadata": {},
     "output_type": "execute_result"
    }
   ],
   "source": [
    "#number of unique valuesper column, sorted by descending order\n",
    "df.T.apply(lambda x: x.nunique(), axis = 1).sort_values(ascending = False)"
   ]
  },
  {
   "cell_type": "markdown",
   "metadata": {},
   "source": [
    "#### Status of the project\n",
    "Status show how successfull was your project"
   ]
  },
  {
   "cell_type": "code",
   "execution_count": 12,
   "metadata": {},
   "outputs": [],
   "source": [
    "#Calculate frequency \n",
    "def categorical_count(df, feature):\n",
    "    #Calculate frequency on% and value\n",
    "    freq = pd.concat([df[feature].value_counts(normalize=True) * 100, df[feature].value_counts(normalize=False)], axis=1)\n",
    "    #rename columns\n",
    "    freq.columns = [feature + '_%', feature + '_count']\n",
    "    return freq"
   ]
  },
  {
   "cell_type": "code",
   "execution_count": 13,
   "metadata": {},
   "outputs": [
    {
     "data": {
      "text/html": [
       "<div>\n",
       "<style scoped>\n",
       "    .dataframe tbody tr th:only-of-type {\n",
       "        vertical-align: middle;\n",
       "    }\n",
       "\n",
       "    .dataframe tbody tr th {\n",
       "        vertical-align: top;\n",
       "    }\n",
       "\n",
       "    .dataframe thead th {\n",
       "        text-align: right;\n",
       "    }\n",
       "</style>\n",
       "<table border=\"1\" class=\"dataframe\">\n",
       "  <thead>\n",
       "    <tr style=\"text-align: right;\">\n",
       "      <th></th>\n",
       "      <th>status_%</th>\n",
       "      <th>status_count</th>\n",
       "    </tr>\n",
       "  </thead>\n",
       "  <tbody>\n",
       "    <tr>\n",
       "      <th>successful</th>\n",
       "      <td>50.080913</td>\n",
       "      <td>22282</td>\n",
       "    </tr>\n",
       "    <tr>\n",
       "      <th>failed</th>\n",
       "      <td>41.002877</td>\n",
       "      <td>18243</td>\n",
       "    </tr>\n",
       "    <tr>\n",
       "      <th>live</th>\n",
       "      <td>8.774611</td>\n",
       "      <td>3904</td>\n",
       "    </tr>\n",
       "    <tr>\n",
       "      <th>canceled</th>\n",
       "      <td>0.132608</td>\n",
       "      <td>59</td>\n",
       "    </tr>\n",
       "    <tr>\n",
       "      <th>suspended</th>\n",
       "      <td>0.008990</td>\n",
       "      <td>4</td>\n",
       "    </tr>\n",
       "  </tbody>\n",
       "</table>\n",
       "</div>"
      ],
      "text/plain": [
       "             status_%  status_count\n",
       "successful  50.080913         22282\n",
       "failed      41.002877         18243\n",
       "live         8.774611          3904\n",
       "canceled     0.132608            59\n",
       "suspended    0.008990             4"
      ]
     },
     "execution_count": 13,
     "metadata": {},
     "output_type": "execute_result"
    }
   ],
   "source": [
    "categorical_count(df, 'status')"
   ]
  },
  {
   "cell_type": "code",
   "execution_count": 14,
   "metadata": {},
   "outputs": [
    {
     "data": {
      "text/plain": [
       "<function matplotlib.pyplot.show(close=None, block=None)>"
      ]
     },
     "execution_count": 14,
     "metadata": {},
     "output_type": "execute_result"
    },
    {
     "data": {
      "image/png": "[encoded data removed]",
      "text/plain": [
       "<Figure size 432x288 with 1 Axes>"
      ]
     },
     "metadata": {
      "needs_background": "light"
     },
     "output_type": "display_data"
    }
   ],
   "source": [
    "#Histogram to check the frequency of the different status\n",
    "plt.hist(df['status'])\n",
    "plt.xlabel('Status', fontsize = 15)\n",
    "plt.ylabel('Frequency', fontsize = 15)\n",
    "plt.title('Project Status',fontsize = 20)\n",
    "plt.show"
   ]
  },
  {
   "cell_type": "markdown",
   "metadata": {},
   "source": [
    "Based on the table and histogram above we can confirm that \"Status\" don't follow a normal distribution. \"Failed\" and \"Successful\" contain 91% of all projects. "
   ]
  },
  {
   "cell_type": "markdown",
   "metadata": {},
   "source": [
    "The main goal of exercise is to identify the attributes that are important for the sucess or failure of the projects. The projects with status 'live', 'canceled' or 'suspended' can be dropped once can't be confirm for sure they would be successful or fail. For the further analysis we will keep just these two classes. "
   ]
  },
  {
   "cell_type": "code",
   "execution_count": 15,
   "metadata": {},
   "outputs": [
    {
     "data": {
      "text/html": [
       "<div>\n",
       "<style scoped>\n",
       "    .dataframe tbody tr th:only-of-type {\n",
       "        vertical-align: middle;\n",
       "    }\n",
       "\n",
       "    .dataframe tbody tr th {\n",
       "        vertical-align: top;\n",
       "    }\n",
       "\n",
       "    .dataframe thead th {\n",
       "        text-align: right;\n",
       "    }\n",
       "</style>\n",
       "<table border=\"1\" class=\"dataframe\">\n",
       "  <thead>\n",
       "    <tr style=\"text-align: right;\">\n",
       "      <th></th>\n",
       "      <th>name</th>\n",
       "      <th>url</th>\n",
       "      <th>category</th>\n",
       "      <th>subcategory</th>\n",
       "      <th>location</th>\n",
       "      <th>status</th>\n",
       "      <th>goal</th>\n",
       "      <th>pledged</th>\n",
       "      <th>funded percentage</th>\n",
       "      <th>backers</th>\n",
       "      <th>funded date</th>\n",
       "      <th>levels</th>\n",
       "      <th>reward levels</th>\n",
       "      <th>updates</th>\n",
       "      <th>comments</th>\n",
       "      <th>duration</th>\n",
       "    </tr>\n",
       "    <tr>\n",
       "      <th>project id</th>\n",
       "      <th></th>\n",
       "      <th></th>\n",
       "      <th></th>\n",
       "      <th></th>\n",
       "      <th></th>\n",
       "      <th></th>\n",
       "      <th></th>\n",
       "      <th></th>\n",
       "      <th></th>\n",
       "      <th></th>\n",
       "      <th></th>\n",
       "      <th></th>\n",
       "      <th></th>\n",
       "      <th></th>\n",
       "      <th></th>\n",
       "      <th></th>\n",
       "    </tr>\n",
       "  </thead>\n",
       "  <tbody>\n",
       "    <tr>\n",
       "      <th>39409</th>\n",
       "      <td>WHILE THE TREES SLEEP</td>\n",
       "      <td>http://www.kickstarter.com/projects/emiliesaba...</td>\n",
       "      <td>Film &amp; Video</td>\n",
       "      <td>Short Film</td>\n",
       "      <td>Columbia, MO</td>\n",
       "      <td>successful</td>\n",
       "      <td>10500.0</td>\n",
       "      <td>11545.0</td>\n",
       "      <td>1.099524</td>\n",
       "      <td>66</td>\n",
       "      <td>Fri, 19 Aug 2011 19:28:17 -0000</td>\n",
       "      <td>7</td>\n",
       "      <td>$25,$50,$100,$250,$500,$1,000,$2,500</td>\n",
       "      <td>10</td>\n",
       "      <td>2</td>\n",
       "      <td>30.00</td>\n",
       "    </tr>\n",
       "    <tr>\n",
       "      <th>126581</th>\n",
       "      <td>Educational Online Trading Card Game</td>\n",
       "      <td>http://www.kickstarter.com/projects/972789543/...</td>\n",
       "      <td>Games</td>\n",
       "      <td>Board &amp; Card Games</td>\n",
       "      <td>Maplewood, NJ</td>\n",
       "      <td>failed</td>\n",
       "      <td>4000.0</td>\n",
       "      <td>20.0</td>\n",
       "      <td>0.005000</td>\n",
       "      <td>2</td>\n",
       "      <td>Mon, 02 Aug 2010 03:59:00 -0000</td>\n",
       "      <td>5</td>\n",
       "      <td>$1,$5,$10,$25,$50</td>\n",
       "      <td>6</td>\n",
       "      <td>0</td>\n",
       "      <td>47.18</td>\n",
       "    </tr>\n",
       "    <tr>\n",
       "      <th>237090</th>\n",
       "      <td>GETTING OVER - One son's search to finally kno...</td>\n",
       "      <td>http://www.kickstarter.com/projects/charnick/g...</td>\n",
       "      <td>Film &amp; Video</td>\n",
       "      <td>Documentary</td>\n",
       "      <td>Los Angeles, CA</td>\n",
       "      <td>successful</td>\n",
       "      <td>6000.0</td>\n",
       "      <td>6535.0</td>\n",
       "      <td>1.089167</td>\n",
       "      <td>100</td>\n",
       "      <td>Sun, 08 Apr 2012 02:14:00 -0000</td>\n",
       "      <td>13</td>\n",
       "      <td>$1,$10,$25,$30,$50,$75,$85,$100,$110,$250,$500...</td>\n",
       "      <td>4</td>\n",
       "      <td>0</td>\n",
       "      <td>32.22</td>\n",
       "    </tr>\n",
       "    <tr>\n",
       "      <th>246101</th>\n",
       "      <td>The Launch of FlyeGrlRoyalty &amp;quot;The New Nam...</td>\n",
       "      <td>http://www.kickstarter.com/projects/flyegrlroy...</td>\n",
       "      <td>Fashion</td>\n",
       "      <td>Fashion</td>\n",
       "      <td>Novi, MI</td>\n",
       "      <td>failed</td>\n",
       "      <td>3500.0</td>\n",
       "      <td>0.0</td>\n",
       "      <td>0.000000</td>\n",
       "      <td>0</td>\n",
       "      <td>Wed, 01 Jun 2011 15:25:39 -0000</td>\n",
       "      <td>6</td>\n",
       "      <td>$10,$25,$50,$100,$150,$250</td>\n",
       "      <td>2</td>\n",
       "      <td>0</td>\n",
       "      <td>30.00</td>\n",
       "    </tr>\n",
       "    <tr>\n",
       "      <th>316217</th>\n",
       "      <td>Dinner Party - a short film about friendship.....</td>\n",
       "      <td>http://www.kickstarter.com/projects/249354515/...</td>\n",
       "      <td>Film &amp; Video</td>\n",
       "      <td>Short Film</td>\n",
       "      <td>Portland, OR</td>\n",
       "      <td>successful</td>\n",
       "      <td>3500.0</td>\n",
       "      <td>3582.0</td>\n",
       "      <td>1.023331</td>\n",
       "      <td>39</td>\n",
       "      <td>Wed, 22 Jun 2011 13:33:00 -0000</td>\n",
       "      <td>7</td>\n",
       "      <td>$5,$25,$50,$100,$250,$500,$1,000</td>\n",
       "      <td>8</td>\n",
       "      <td>0</td>\n",
       "      <td>21.43</td>\n",
       "    </tr>\n",
       "  </tbody>\n",
       "</table>\n",
       "</div>"
      ],
      "text/plain": [
       "                                                         name  \\\n",
       "project id                                                      \n",
       "39409                                   WHILE THE TREES SLEEP   \n",
       "126581                   Educational Online Trading Card Game   \n",
       "237090      GETTING OVER - One son's search to finally kno...   \n",
       "246101      The Launch of FlyeGrlRoyalty &quot;The New Nam...   \n",
       "316217      Dinner Party - a short film about friendship.....   \n",
       "\n",
       "                                                          url      category  \\\n",
       "project id                                                                    \n",
       "39409       http://www.kickstarter.com/projects/emiliesaba...  Film & Video   \n",
       "126581      http://www.kickstarter.com/projects/972789543/...         Games   \n",
       "237090      http://www.kickstarter.com/projects/charnick/g...  Film & Video   \n",
       "246101      http://www.kickstarter.com/projects/flyegrlroy...       Fashion   \n",
       "316217      http://www.kickstarter.com/projects/249354515/...  Film & Video   \n",
       "\n",
       "                   subcategory         location      status     goal  pledged  \\\n",
       "project id                                                                      \n",
       "39409               Short Film     Columbia, MO  successful  10500.0  11545.0   \n",
       "126581      Board & Card Games    Maplewood, NJ      failed   4000.0     20.0   \n",
       "237090             Documentary  Los Angeles, CA  successful   6000.0   6535.0   \n",
       "246101                 Fashion         Novi, MI      failed   3500.0      0.0   \n",
       "316217              Short Film     Portland, OR  successful   3500.0   3582.0   \n",
       "\n",
       "            funded percentage  backers                      funded date  \\\n",
       "project id                                                                \n",
       "39409                1.099524       66  Fri, 19 Aug 2011 19:28:17 -0000   \n",
       "126581               0.005000        2  Mon, 02 Aug 2010 03:59:00 -0000   \n",
       "237090               1.089167      100  Sun, 08 Apr 2012 02:14:00 -0000   \n",
       "246101               0.000000        0  Wed, 01 Jun 2011 15:25:39 -0000   \n",
       "316217               1.023331       39  Wed, 22 Jun 2011 13:33:00 -0000   \n",
       "\n",
       "            levels                                      reward levels  \\\n",
       "project id                                                              \n",
       "39409            7               $25,$50,$100,$250,$500,$1,000,$2,500   \n",
       "126581           5                                  $1,$5,$10,$25,$50   \n",
       "237090          13  $1,$10,$25,$30,$50,$75,$85,$100,$110,$250,$500...   \n",
       "246101           6                         $10,$25,$50,$100,$150,$250   \n",
       "316217           7                   $5,$25,$50,$100,$250,$500,$1,000   \n",
       "\n",
       "            updates  comments  duration  \n",
       "project id                               \n",
       "39409            10         2     30.00  \n",
       "126581            6         0     47.18  \n",
       "237090            4         0     32.22  \n",
       "246101            2         0     30.00  \n",
       "316217            8         0     21.43  "
      ]
     },
     "execution_count": 15,
     "metadata": {},
     "output_type": "execute_result"
    }
   ],
   "source": [
    "#return only sucessful and failed projects\n",
    "df = df.loc[df['status'].isin(['successful', 'failed'])]\n",
    "df.head()"
   ]
  },
  {
   "cell_type": "markdown",
   "metadata": {},
   "source": [
    "'Status' was transformed in a binary classification problem."
   ]
  },
  {
   "cell_type": "code",
   "execution_count": 16,
   "metadata": {},
   "outputs": [
    {
     "data": {
      "text/html": [
       "<div>\n",
       "<style scoped>\n",
       "    .dataframe tbody tr th:only-of-type {\n",
       "        vertical-align: middle;\n",
       "    }\n",
       "\n",
       "    .dataframe tbody tr th {\n",
       "        vertical-align: top;\n",
       "    }\n",
       "\n",
       "    .dataframe thead th {\n",
       "        text-align: right;\n",
       "    }\n",
       "</style>\n",
       "<table border=\"1\" class=\"dataframe\">\n",
       "  <thead>\n",
       "    <tr style=\"text-align: right;\">\n",
       "      <th></th>\n",
       "      <th>status_%</th>\n",
       "      <th>status_count</th>\n",
       "    </tr>\n",
       "  </thead>\n",
       "  <tbody>\n",
       "    <tr>\n",
       "      <th>successful</th>\n",
       "      <td>54.983344</td>\n",
       "      <td>22282</td>\n",
       "    </tr>\n",
       "    <tr>\n",
       "      <th>failed</th>\n",
       "      <td>45.016656</td>\n",
       "      <td>18243</td>\n",
       "    </tr>\n",
       "  </tbody>\n",
       "</table>\n",
       "</div>"
      ],
      "text/plain": [
       "             status_%  status_count\n",
       "successful  54.983344         22282\n",
       "failed      45.016656         18243"
      ]
     },
     "execution_count": 16,
     "metadata": {},
     "output_type": "execute_result"
    }
   ],
   "source": [
    "categorical_count(df, 'status')"
   ]
  },
  {
   "cell_type": "code",
   "execution_count": 17,
   "metadata": {},
   "outputs": [
    {
     "data": {
      "text/html": [
       "<div>\n",
       "<style scoped>\n",
       "    .dataframe tbody tr th:only-of-type {\n",
       "        vertical-align: middle;\n",
       "    }\n",
       "\n",
       "    .dataframe tbody tr th {\n",
       "        vertical-align: top;\n",
       "    }\n",
       "\n",
       "    .dataframe thead th {\n",
       "        text-align: right;\n",
       "    }\n",
       "</style>\n",
       "<table border=\"1\" class=\"dataframe\">\n",
       "  <thead>\n",
       "    <tr style=\"text-align: right;\">\n",
       "      <th></th>\n",
       "      <th>name</th>\n",
       "      <th>url</th>\n",
       "      <th>category</th>\n",
       "      <th>subcategory</th>\n",
       "      <th>location</th>\n",
       "      <th>goal</th>\n",
       "      <th>pledged</th>\n",
       "      <th>funded percentage</th>\n",
       "      <th>backers</th>\n",
       "      <th>funded date</th>\n",
       "      <th>levels</th>\n",
       "      <th>reward levels</th>\n",
       "      <th>updates</th>\n",
       "      <th>comments</th>\n",
       "      <th>duration</th>\n",
       "      <th>successful</th>\n",
       "    </tr>\n",
       "    <tr>\n",
       "      <th>project id</th>\n",
       "      <th></th>\n",
       "      <th></th>\n",
       "      <th></th>\n",
       "      <th></th>\n",
       "      <th></th>\n",
       "      <th></th>\n",
       "      <th></th>\n",
       "      <th></th>\n",
       "      <th></th>\n",
       "      <th></th>\n",
       "      <th></th>\n",
       "      <th></th>\n",
       "      <th></th>\n",
       "      <th></th>\n",
       "      <th></th>\n",
       "      <th></th>\n",
       "    </tr>\n",
       "  </thead>\n",
       "  <tbody>\n",
       "    <tr>\n",
       "      <th>39409</th>\n",
       "      <td>WHILE THE TREES SLEEP</td>\n",
       "      <td>http://www.kickstarter.com/projects/emiliesaba...</td>\n",
       "      <td>Film &amp; Video</td>\n",
       "      <td>Short Film</td>\n",
       "      <td>Columbia, MO</td>\n",
       "      <td>10500.0</td>\n",
       "      <td>11545.0</td>\n",
       "      <td>1.099524</td>\n",
       "      <td>66</td>\n",
       "      <td>Fri, 19 Aug 2011 19:28:17 -0000</td>\n",
       "      <td>7</td>\n",
       "      <td>$25,$50,$100,$250,$500,$1,000,$2,500</td>\n",
       "      <td>10</td>\n",
       "      <td>2</td>\n",
       "      <td>30.00</td>\n",
       "      <td>1</td>\n",
       "    </tr>\n",
       "    <tr>\n",
       "      <th>126581</th>\n",
       "      <td>Educational Online Trading Card Game</td>\n",
       "      <td>http://www.kickstarter.com/projects/972789543/...</td>\n",
       "      <td>Games</td>\n",
       "      <td>Board &amp; Card Games</td>\n",
       "      <td>Maplewood, NJ</td>\n",
       "      <td>4000.0</td>\n",
       "      <td>20.0</td>\n",
       "      <td>0.005000</td>\n",
       "      <td>2</td>\n",
       "      <td>Mon, 02 Aug 2010 03:59:00 -0000</td>\n",
       "      <td>5</td>\n",
       "      <td>$1,$5,$10,$25,$50</td>\n",
       "      <td>6</td>\n",
       "      <td>0</td>\n",
       "      <td>47.18</td>\n",
       "      <td>0</td>\n",
       "    </tr>\n",
       "    <tr>\n",
       "      <th>237090</th>\n",
       "      <td>GETTING OVER - One son's search to finally kno...</td>\n",
       "      <td>http://www.kickstarter.com/projects/charnick/g...</td>\n",
       "      <td>Film &amp; Video</td>\n",
       "      <td>Documentary</td>\n",
       "      <td>Los Angeles, CA</td>\n",
       "      <td>6000.0</td>\n",
       "      <td>6535.0</td>\n",
       "      <td>1.089167</td>\n",
       "      <td>100</td>\n",
       "      <td>Sun, 08 Apr 2012 02:14:00 -0000</td>\n",
       "      <td>13</td>\n",
       "      <td>$1,$10,$25,$30,$50,$75,$85,$100,$110,$250,$500...</td>\n",
       "      <td>4</td>\n",
       "      <td>0</td>\n",
       "      <td>32.22</td>\n",
       "      <td>1</td>\n",
       "    </tr>\n",
       "    <tr>\n",
       "      <th>246101</th>\n",
       "      <td>The Launch of FlyeGrlRoyalty &amp;quot;The New Nam...</td>\n",
       "      <td>http://www.kickstarter.com/projects/flyegrlroy...</td>\n",
       "      <td>Fashion</td>\n",
       "      <td>Fashion</td>\n",
       "      <td>Novi, MI</td>\n",
       "      <td>3500.0</td>\n",
       "      <td>0.0</td>\n",
       "      <td>0.000000</td>\n",
       "      <td>0</td>\n",
       "      <td>Wed, 01 Jun 2011 15:25:39 -0000</td>\n",
       "      <td>6</td>\n",
       "      <td>$10,$25,$50,$100,$150,$250</td>\n",
       "      <td>2</td>\n",
       "      <td>0</td>\n",
       "      <td>30.00</td>\n",
       "      <td>0</td>\n",
       "    </tr>\n",
       "    <tr>\n",
       "      <th>316217</th>\n",
       "      <td>Dinner Party - a short film about friendship.....</td>\n",
       "      <td>http://www.kickstarter.com/projects/249354515/...</td>\n",
       "      <td>Film &amp; Video</td>\n",
       "      <td>Short Film</td>\n",
       "      <td>Portland, OR</td>\n",
       "      <td>3500.0</td>\n",
       "      <td>3582.0</td>\n",
       "      <td>1.023331</td>\n",
       "      <td>39</td>\n",
       "      <td>Wed, 22 Jun 2011 13:33:00 -0000</td>\n",
       "      <td>7</td>\n",
       "      <td>$5,$25,$50,$100,$250,$500,$1,000</td>\n",
       "      <td>8</td>\n",
       "      <td>0</td>\n",
       "      <td>21.43</td>\n",
       "      <td>1</td>\n",
       "    </tr>\n",
       "  </tbody>\n",
       "</table>\n",
       "</div>"
      ],
      "text/plain": [
       "                                                         name  \\\n",
       "project id                                                      \n",
       "39409                                   WHILE THE TREES SLEEP   \n",
       "126581                   Educational Online Trading Card Game   \n",
       "237090      GETTING OVER - One son's search to finally kno...   \n",
       "246101      The Launch of FlyeGrlRoyalty &quot;The New Nam...   \n",
       "316217      Dinner Party - a short film about friendship.....   \n",
       "\n",
       "                                                          url      category  \\\n",
       "project id                                                                    \n",
       "39409       http://www.kickstarter.com/projects/emiliesaba...  Film & Video   \n",
       "126581      http://www.kickstarter.com/projects/972789543/...         Games   \n",
       "237090      http://www.kickstarter.com/projects/charnick/g...  Film & Video   \n",
       "246101      http://www.kickstarter.com/projects/flyegrlroy...       Fashion   \n",
       "316217      http://www.kickstarter.com/projects/249354515/...  Film & Video   \n",
       "\n",
       "                   subcategory         location     goal  pledged  \\\n",
       "project id                                                          \n",
       "39409               Short Film     Columbia, MO  10500.0  11545.0   \n",
       "126581      Board & Card Games    Maplewood, NJ   4000.0     20.0   \n",
       "237090             Documentary  Los Angeles, CA   6000.0   6535.0   \n",
       "246101                 Fashion         Novi, MI   3500.0      0.0   \n",
       "316217              Short Film     Portland, OR   3500.0   3582.0   \n",
       "\n",
       "            funded percentage  backers                      funded date  \\\n",
       "project id                                                                \n",
       "39409                1.099524       66  Fri, 19 Aug 2011 19:28:17 -0000   \n",
       "126581               0.005000        2  Mon, 02 Aug 2010 03:59:00 -0000   \n",
       "237090               1.089167      100  Sun, 08 Apr 2012 02:14:00 -0000   \n",
       "246101               0.000000        0  Wed, 01 Jun 2011 15:25:39 -0000   \n",
       "316217               1.023331       39  Wed, 22 Jun 2011 13:33:00 -0000   \n",
       "\n",
       "            levels                                      reward levels  \\\n",
       "project id                                                              \n",
       "39409            7               $25,$50,$100,$250,$500,$1,000,$2,500   \n",
       "126581           5                                  $1,$5,$10,$25,$50   \n",
       "237090          13  $1,$10,$25,$30,$50,$75,$85,$100,$110,$250,$500...   \n",
       "246101           6                         $10,$25,$50,$100,$150,$250   \n",
       "316217           7                   $5,$25,$50,$100,$250,$500,$1,000   \n",
       "\n",
       "            updates  comments  duration  successful  \n",
       "project id                                           \n",
       "39409            10         2     30.00           1  \n",
       "126581            6         0     47.18           0  \n",
       "237090            4         0     32.22           1  \n",
       "246101            2         0     30.00           0  \n",
       "316217            8         0     21.43           1  "
      ]
     },
     "execution_count": 17,
     "metadata": {},
     "output_type": "execute_result"
    }
   ],
   "source": [
    "#replace the categorical data by 1 and 0 values, where 1 means 'successfull' and 0 'failed'\n",
    "status = pd.get_dummies(df['status'],drop_first=True)\n",
    "df.drop(['status'],axis=1,inplace=True)\n",
    "df = pd.concat([df,status],axis=1)\n",
    "df.head()"
   ]
  },
  {
   "cell_type": "markdown",
   "metadata": {},
   "source": [
    "### Features which will be used for further analysis\n",
    "Features that are leaking our label so that the classifier will be able to predict sucess of projects right after it's launch.\n",
    "    .name\n",
    "    .category\n",
    "    .subcategory\n",
    "    .location\n",
    "    .goal\n",
    "    .pledge\n",
    "    .backers\n",
    "    .reward level\n",
    "    .updates\n",
    "    .comments\n",
    "    .duration\n",
    "    .successful\n",
    "\n"
   ]
  },
  {
   "cell_type": "code",
   "execution_count": 18,
   "metadata": {},
   "outputs": [
    {
     "data": {
      "text/html": [
       "<div>\n",
       "<style scoped>\n",
       "    .dataframe tbody tr th:only-of-type {\n",
       "        vertical-align: middle;\n",
       "    }\n",
       "\n",
       "    .dataframe tbody tr th {\n",
       "        vertical-align: top;\n",
       "    }\n",
       "\n",
       "    .dataframe thead th {\n",
       "        text-align: right;\n",
       "    }\n",
       "</style>\n",
       "<table border=\"1\" class=\"dataframe\">\n",
       "  <thead>\n",
       "    <tr style=\"text-align: right;\">\n",
       "      <th></th>\n",
       "      <th>name</th>\n",
       "      <th>category</th>\n",
       "      <th>location</th>\n",
       "      <th>goal</th>\n",
       "      <th>pledged</th>\n",
       "      <th>backers</th>\n",
       "      <th>funded date</th>\n",
       "      <th>duration</th>\n",
       "      <th>successful</th>\n",
       "    </tr>\n",
       "    <tr>\n",
       "      <th>project id</th>\n",
       "      <th></th>\n",
       "      <th></th>\n",
       "      <th></th>\n",
       "      <th></th>\n",
       "      <th></th>\n",
       "      <th></th>\n",
       "      <th></th>\n",
       "      <th></th>\n",
       "      <th></th>\n",
       "    </tr>\n",
       "  </thead>\n",
       "  <tbody>\n",
       "    <tr>\n",
       "      <th>39409</th>\n",
       "      <td>WHILE THE TREES SLEEP</td>\n",
       "      <td>Film &amp; Video</td>\n",
       "      <td>Columbia, MO</td>\n",
       "      <td>10500.0</td>\n",
       "      <td>11545.0</td>\n",
       "      <td>66</td>\n",
       "      <td>Fri, 19 Aug 2011 19:28:17 -0000</td>\n",
       "      <td>30.00</td>\n",
       "      <td>1</td>\n",
       "    </tr>\n",
       "    <tr>\n",
       "      <th>126581</th>\n",
       "      <td>Educational Online Trading Card Game</td>\n",
       "      <td>Games</td>\n",
       "      <td>Maplewood, NJ</td>\n",
       "      <td>4000.0</td>\n",
       "      <td>20.0</td>\n",
       "      <td>2</td>\n",
       "      <td>Mon, 02 Aug 2010 03:59:00 -0000</td>\n",
       "      <td>47.18</td>\n",
       "      <td>0</td>\n",
       "    </tr>\n",
       "    <tr>\n",
       "      <th>237090</th>\n",
       "      <td>GETTING OVER - One son's search to finally kno...</td>\n",
       "      <td>Film &amp; Video</td>\n",
       "      <td>Los Angeles, CA</td>\n",
       "      <td>6000.0</td>\n",
       "      <td>6535.0</td>\n",
       "      <td>100</td>\n",
       "      <td>Sun, 08 Apr 2012 02:14:00 -0000</td>\n",
       "      <td>32.22</td>\n",
       "      <td>1</td>\n",
       "    </tr>\n",
       "    <tr>\n",
       "      <th>246101</th>\n",
       "      <td>The Launch of FlyeGrlRoyalty &amp;quot;The New Nam...</td>\n",
       "      <td>Fashion</td>\n",
       "      <td>Novi, MI</td>\n",
       "      <td>3500.0</td>\n",
       "      <td>0.0</td>\n",
       "      <td>0</td>\n",
       "      <td>Wed, 01 Jun 2011 15:25:39 -0000</td>\n",
       "      <td>30.00</td>\n",
       "      <td>0</td>\n",
       "    </tr>\n",
       "    <tr>\n",
       "      <th>316217</th>\n",
       "      <td>Dinner Party - a short film about friendship.....</td>\n",
       "      <td>Film &amp; Video</td>\n",
       "      <td>Portland, OR</td>\n",
       "      <td>3500.0</td>\n",
       "      <td>3582.0</td>\n",
       "      <td>39</td>\n",
       "      <td>Wed, 22 Jun 2011 13:33:00 -0000</td>\n",
       "      <td>21.43</td>\n",
       "      <td>1</td>\n",
       "    </tr>\n",
       "  </tbody>\n",
       "</table>\n",
       "</div>"
      ],
      "text/plain": [
       "                                                         name      category  \\\n",
       "project id                                                                    \n",
       "39409                                   WHILE THE TREES SLEEP  Film & Video   \n",
       "126581                   Educational Online Trading Card Game         Games   \n",
       "237090      GETTING OVER - One son's search to finally kno...  Film & Video   \n",
       "246101      The Launch of FlyeGrlRoyalty &quot;The New Nam...       Fashion   \n",
       "316217      Dinner Party - a short film about friendship.....  Film & Video   \n",
       "\n",
       "                   location     goal  pledged  backers  \\\n",
       "project id                                               \n",
       "39409          Columbia, MO  10500.0  11545.0       66   \n",
       "126581        Maplewood, NJ   4000.0     20.0        2   \n",
       "237090      Los Angeles, CA   6000.0   6535.0      100   \n",
       "246101             Novi, MI   3500.0      0.0        0   \n",
       "316217         Portland, OR   3500.0   3582.0       39   \n",
       "\n",
       "                                funded date  duration  successful  \n",
       "project id                                                         \n",
       "39409       Fri, 19 Aug 2011 19:28:17 -0000     30.00           1  \n",
       "126581      Mon, 02 Aug 2010 03:59:00 -0000     47.18           0  \n",
       "237090      Sun, 08 Apr 2012 02:14:00 -0000     32.22           1  \n",
       "246101      Wed, 01 Jun 2011 15:25:39 -0000     30.00           0  \n",
       "316217      Wed, 22 Jun 2011 13:33:00 -0000     21.43           1  "
      ]
     },
     "execution_count": 18,
     "metadata": {},
     "output_type": "execute_result"
    }
   ],
   "source": [
    "#Drop columns not relevant for this analysis\n",
    "df = df.drop(['url', 'subcategory','funded percentage','levels', 'reward levels', 'updates', 'comments'], axis = 1, inplace = False)\n",
    "df.head()"
   ]
  },
  {
   "cell_type": "code",
   "execution_count": 19,
   "metadata": {},
   "outputs": [],
   "source": [
    "# Rename `funded date` to `funded_date`\n",
    "df.rename(columns={'funded date':'funded_date'}, inplace=True)"
   ]
  },
  {
   "cell_type": "markdown",
   "metadata": {},
   "source": [
    " # 3. Feature analysis"
   ]
  },
  {
   "cell_type": "markdown",
   "metadata": {},
   "source": [
    "## What is the mean (total) pledge that projects get? (not per backer)"
   ]
  },
  {
   "cell_type": "code",
   "execution_count": 20,
   "metadata": {},
   "outputs": [
    {
     "name": "stdout",
     "output_type": "stream",
     "text": [
      "The mean total pledge is a $ 5211.08\n"
     ]
    }
   ],
   "source": [
    "# Mean of pledge\n",
    "pledge_mean = df['pledged'].mean()\n",
    "print(f'The mean total pledge is a $ {round(pledge_mean,2)}')"
   ]
  },
  {
   "cell_type": "markdown",
   "metadata": {},
   "source": [
    "## Create a histogram that shows the distribution for number of backers. What is the skew of the distribution?"
   ]
  },
  {
   "cell_type": "code",
   "execution_count": 21,
   "metadata": {},
   "outputs": [
    {
     "data": {
      "text/plain": [
       "<function matplotlib.pyplot.show(close=None, block=None)>"
      ]
     },
     "execution_count": 21,
     "metadata": {},
     "output_type": "execute_result"
    },
    {
     "data": {
      "image/png": "[encoded data removed]",
      "text/plain": [
       "<Figure size 432x288 with 1 Axes>"
      ]
     },
     "metadata": {
      "needs_background": "light"
     },
     "output_type": "display_data"
    }
   ],
   "source": [
    "#Plotting the Histogram\n",
    "plt.hist(df['backers'])\n",
    "plt.xlabel('Backers', fontsize = 15)\n",
    "plt.ylabel('Frequency', fontsize = 15)\n",
    "plt.title('Number of Backers', fontsize = 20)\n",
    "plt.show"
   ]
  },
  {
   "cell_type": "markdown",
   "metadata": {},
   "source": [
    "#Skew of the distribution\n",
    "The skew shows the level of the distortion from the symmetry bell curve or the normal distribution. "
   ]
  },
  {
   "cell_type": "markdown",
   "metadata": {},
   "source": [
    "## What type of projects would be most successful at getting funded?¶"
   ]
  },
  {
   "cell_type": "code",
   "execution_count": 22,
   "metadata": {},
   "outputs": [
    {
     "data": {
      "text/plain": [
       "['Film & Video',\n",
       " 'Games',\n",
       " 'Fashion',\n",
       " 'Music',\n",
       " 'Art',\n",
       " 'Dance',\n",
       " 'Publishing',\n",
       " 'Theater',\n",
       " 'Comics',\n",
       " 'Technology',\n",
       " 'Design',\n",
       " 'Photography',\n",
       " 'Food',\n",
       " 'Film &amp; Video']"
      ]
     },
     "execution_count": 22,
     "metadata": {},
     "output_type": "execute_result"
    }
   ],
   "source": [
    "# Print categories\n",
    "df['category'].unique().tolist()"
   ]
  },
  {
   "cell_type": "code",
   "execution_count": 23,
   "metadata": {},
   "outputs": [],
   "source": [
    "order = (df.loc[df.successful==1]['category'].value_counts())/(df['category'].value_counts())\n",
    "order_1 = order.index"
   ]
  },
  {
   "cell_type": "code",
   "execution_count": 24,
   "metadata": {},
   "outputs": [
    {
     "data": {
      "image/png": "[encoded data removed]",
      "text/plain": [
       "<Figure size 720x360 with 1 Axes>"
      ]
     },
     "metadata": {
      "needs_background": "light"
     },
     "output_type": "display_data"
    }
   ],
   "source": [
    "# Plot showing the percentage of Success\n",
    "sns.catplot(y='successful', x= 'category', data=df, kind='bar', ci = None, aspect = 2)\n",
    "plt.xlabel('Category', fontsize = 15)\n",
    "plt.ylabel('Percentage of Success', fontsize = 15)\n",
    "plt.title('Success by Category', fontsize = 20)\n",
    "plt.show()"
   ]
  },
  {
   "cell_type": "markdown",
   "metadata": {},
   "source": []
  },
  {
   "cell_type": "code",
   "execution_count": 25,
   "metadata": {},
   "outputs": [
    {
     "data": {
      "text/plain": [
       "['Columbia, MO',\n",
       " 'Maplewood, NJ',\n",
       " 'Los Angeles, CA',\n",
       " 'Novi, MI',\n",
       " 'Portland, OR',\n",
       " 'Collegedale, TN',\n",
       " 'Chicago, IL',\n",
       " 'Ashland, OR',\n",
       " 'New York, NY',\n",
       " 'Washington, DC',\n",
       " 'Boise, ID',\n",
       " 'Tampa, FL',\n",
       " 'Austin, TX',\n",
       " 'Denver, CO',\n",
       " 'Eugene, OR',\n",
       " 'San Francisco, CA',\n",
       " 'Portland, ME',\n",
       " 'Taipei, Taiwan',\n",
       " 'Indianapolis, IN',\n",
       " 'Nashville, TN',\n",
       " 'Brooklyn, NY',\n",
       " 'Evansville, IN',\n",
       " 'Forney, TX',\n",
       " 'Dallas, TX',\n",
       " 'South Bend, IN',\n",
       " 'Oslo, Norway',\n",
       " 'Minneapolis, MN',\n",
       " 'Arcadia, CA',\n",
       " 'Raleigh, NC',\n",
       " 'Somerville, MA',\n",
       " 'Philadelphia, PA',\n",
       " 'Hamden, CT',\n",
       " 'Cocham\\x92ÛÎ_, Chile',\n",
       " 'Orlando, FL',\n",
       " 'Lower East Side, NY',\n",
       " 'Oakland, CA',\n",
       " 'Clovis, CA',\n",
       " 'New Haven, CT',\n",
       " 'Baltimore, MD',\n",
       " 'San Rafael, CA',\n",
       " 'Azusa, CA',\n",
       " 'St Augustine, FL',\n",
       " 'Miami, FL',\n",
       " 'Gainesville, FL',\n",
       " 'Ewa Beach, HI',\n",
       " 'Virginia Beach, VA',\n",
       " 'Seattle, WA',\n",
       " 'Tucson, AZ',\n",
       " 'Grand Rapids, MI',\n",
       " 'La Mirada, CA',\n",
       " 'Toledo, OH',\n",
       " 'San Diego, CA',\n",
       " 'Denton, TX',\n",
       " 'San Antonio, TX',\n",
       " 'Reno, NV',\n",
       " 'Port Au Prince, Haiti',\n",
       " 'Atlanta, GA',\n",
       " 'Birmingham, AL',\n",
       " 'Houston, TX',\n",
       " 'Nanuet, NY',\n",
       " 'Campo, CA',\n",
       " 'Glyndon, MN',\n",
       " 'Provo, UT',\n",
       " 'Long Island City, NY',\n",
       " 'Toronto, Canada',\n",
       " 'New Orleans, LA',\n",
       " 'Chico, CA',\n",
       " 'Burbank, CA',\n",
       " 'Columbia, SC',\n",
       " 'Puyo, Ecuador',\n",
       " 'Knoxville, TN',\n",
       " 'Huntington Beach, CA',\n",
       " 'Germantown, MD',\n",
       " 'Hoboken, NJ',\n",
       " 'Hollywood, FL',\n",
       " 'Santa Cruz, CA',\n",
       " 'Madison, WI',\n",
       " 'Alexandria, VA',\n",
       " 'Savannah, GA',\n",
       " 'St Andrew Parish, Jamaica',\n",
       " 'Boston, MA',\n",
       " 'Buenos Aires, Argentina',\n",
       " 'Huntsville, TX',\n",
       " 'Colorado Springs, CO',\n",
       " 'Cape Canaveral, FL',\n",
       " 'Hong Kong, Hong Kong',\n",
       " 'Milwaukee, WI',\n",
       " 'Long Beach, CA',\n",
       " 'Punta Gorda, FL',\n",
       " 'Westport, NY',\n",
       " 'St Louis, MO',\n",
       " 'South Elgin, IL',\n",
       " 'Fountain Valley, CA',\n",
       " 'Kansas City, MO',\n",
       " 'Bryan, TX',\n",
       " 'Sandpoint, ID',\n",
       " 'Cambridge, MA',\n",
       " 'Albany, NY',\n",
       " 'Fort Lauderdale, FL',\n",
       " 'Berlin, Germany',\n",
       " 'Hartford, CT',\n",
       " 'Salt Lake City, UT',\n",
       " 'Santa Fe, NM',\n",
       " 'Omaha, NE',\n",
       " 'Tarrytown, NY',\n",
       " 'Bailey Island, ME',\n",
       " 'Quetzaltenango, Guatemala',\n",
       " 'Guatemala City, Guatemala',\n",
       " 'Davenport, IA',\n",
       " 'Sacramento, CA',\n",
       " 'St James, MI',\n",
       " 'Asheville, NC',\n",
       " 'Wellford, SC',\n",
       " 'Phoenix, AZ',\n",
       " 'Akron, OH',\n",
       " 'Laramie, WY',\n",
       " 'Savage, MN',\n",
       " 'Tempe, AZ',\n",
       " 'Whitehouse Station, NJ',\n",
       " 'Richmond, VA',\n",
       " 'Duluth, GA',\n",
       " 'Jacksonville, FL',\n",
       " 'Waterbury, CT',\n",
       " 'Baton Rouge, LA',\n",
       " 'Atlantic City, NJ',\n",
       " 'Marathon, FL',\n",
       " 'Lynchburg, VA',\n",
       " 'San Jose, CA',\n",
       " 'Detroit, MI',\n",
       " 'Manhattan, NY',\n",
       " 'Las Vegas, NV',\n",
       " 'Spokane, WA',\n",
       " 'Kannapolis, NC',\n",
       " 'Thayer, MO',\n",
       " 'Blacksburg, VA',\n",
       " 'Charlotte, NC',\n",
       " 'Mt Vernon, IN',\n",
       " 'Sydney, Australia',\n",
       " 'Providence, RI',\n",
       " 'Martins Ferry, OH',\n",
       " 'Durham, NC',\n",
       " 'Auburn, CA',\n",
       " 'Palm Coast, FL',\n",
       " 'Gothenburg Urban Area, Sweden',\n",
       " 'Bloomington, IN',\n",
       " 'San Fernando Valley, CA',\n",
       " 'Ann Arbor, MI',\n",
       " 'Columbus, OH',\n",
       " 'Tulsa, OK',\n",
       " 'Chandler, AZ',\n",
       " 'Dover, DE',\n",
       " 'Macon, GA',\n",
       " 'Bridgewater, VA',\n",
       " 'Cypress, CA',\n",
       " 'Wayne, NJ',\n",
       " 'Cape Town, South Africa',\n",
       " 'Anchorage, AK',\n",
       " 'Huntington, WV',\n",
       " 'Cleveland, OH',\n",
       " 'Winston Salem, NC',\n",
       " 'Norman, OK',\n",
       " 'Washington, NJ',\n",
       " 'Long Island, NY',\n",
       " 'Kathmandu, Nepal',\n",
       " 'Newtown, CT',\n",
       " 'Ventura, CA',\n",
       " 'Boulder, CO',\n",
       " 'Missoula, MT',\n",
       " 'Morrisville, NC',\n",
       " 'De Forest, WI',\n",
       " 'Hollywood, CA',\n",
       " 'Montr\\x92ÛÎ©al, Canada',\n",
       " 'Queens, NY',\n",
       " 'Florence, KY',\n",
       " 'Lincoln, NE',\n",
       " 'Little Egg Harbor, NJ',\n",
       " 'Moncks Corner, SC',\n",
       " 'Hualien County, Taiwan',\n",
       " 'San Bernardino, CA',\n",
       " 'Concord, NC',\n",
       " 'Watsonville, CA',\n",
       " 'Bucksport, ME',\n",
       " 'Montpelier, VT',\n",
       " 'Shelby, NC',\n",
       " 'Charlottesville, VA',\n",
       " 'Lorain, OH',\n",
       " 'Madison, MN',\n",
       " 'Laie, HI',\n",
       " 'Syracuse, NY',\n",
       " 'Pittsburgh, PA',\n",
       " 'Sunol, CA',\n",
       " 'Fairfield, IA',\n",
       " 'Livermore, CA',\n",
       " 'Ithaca, NY',\n",
       " 'Shippensburg, PA',\n",
       " 'QLD, Australia',\n",
       " 'Lafayette, LA',\n",
       " 'St Johnsbury, VT',\n",
       " 'Harlem, NY',\n",
       " 'Milford, MA',\n",
       " 'Nairobi, Kenya',\n",
       " 'Utica, NY',\n",
       " 'Fresno, CA',\n",
       " 'Woodstock, IL',\n",
       " 'Sarajevo, Bosnia and Herzegovina',\n",
       " 'Olympia, WA',\n",
       " 'Farmingdale, NJ',\n",
       " 'Greenwich, CT',\n",
       " 'Louisville, KY',\n",
       " 'Springfield, MO',\n",
       " 'Stamford, CT',\n",
       " 'West Hollywood, CA',\n",
       " 'Blue Lake, CA',\n",
       " 'Westminster, MD',\n",
       " 'Saukville, WI',\n",
       " 'Fitchburg, MA',\n",
       " 'Sumner, WA',\n",
       " 'Tomball, TX',\n",
       " 'Key West, FL',\n",
       " 'Niagara Falls, NY',\n",
       " 'Weatherford, TX',\n",
       " 'Plymouth, MA',\n",
       " 'Lee, MI',\n",
       " 'Palmetto, FL',\n",
       " 'West Lafayette, IN',\n",
       " 'Tallahassee, FL',\n",
       " 'Tivoli, NY',\n",
       " 'Bell Buckle, TN',\n",
       " 'Plainsboro, NJ',\n",
       " 'Venice, CA',\n",
       " 'Lake Mary, FL',\n",
       " 'Moorpark, CA',\n",
       " 'Northampton, MA',\n",
       " 'Reykjavik, Iceland',\n",
       " 'San Luis Obispo, CA',\n",
       " 'Lubbock, TX',\n",
       " 'Ypsilanti, MI',\n",
       " 'Cincinnati, OH',\n",
       " 'St Charles, IL',\n",
       " 'Hyde Park, NY',\n",
       " 'Ju\\x92ÛÎ\\x8drez, Mexico',\n",
       " 'Palm Harbor, FL',\n",
       " 'Staten Island, NY',\n",
       " 'Wichita, KS',\n",
       " 'Poughkeepsie, NY',\n",
       " 'Bend, OR',\n",
       " 'Homer, AK',\n",
       " 'Pasco, WA',\n",
       " 'Upper Freehold, NJ',\n",
       " 'Rochester, NY',\n",
       " 'Chattanooga, TN',\n",
       " 'Budapest, Hungary',\n",
       " 'Cottage Grove, MN',\n",
       " 'L\\x92ÛÎ©og\\x92ÛÎ¢ne, Haiti',\n",
       " 'Bushwick, NY',\n",
       " 'Lindenwold, NJ',\n",
       " 'Denpasar, Indonesia',\n",
       " 'Kunming, China',\n",
       " 'Kirkland, WA',\n",
       " 'North Port, FL',\n",
       " 'Roslyn, WA',\n",
       " 'Boca Raton, FL',\n",
       " 'Sioux Falls, SD',\n",
       " 'Havana, Cuba',\n",
       " 'Watertown, NY',\n",
       " 'New Braunfels, TX',\n",
       " 'Victoria, Canada',\n",
       " 'Elkins, WV',\n",
       " 'Greensboro, NC',\n",
       " 'Roswell, GA',\n",
       " 'Dayton, OH',\n",
       " 'Utica, MI',\n",
       " 'Naperville, IL',\n",
       " 'Annapolis, MD',\n",
       " 'Lima, Peru',\n",
       " 'Sardinia, Italy',\n",
       " 'Greenville, SC',\n",
       " 'Hardwick, VT',\n",
       " 'Fredericksburg, VA',\n",
       " 'Fishers, IN',\n",
       " 'Arvada, CO',\n",
       " 'Fort Myers, FL',\n",
       " 'Oklahoma City, OK',\n",
       " 'Bowling Green, OH',\n",
       " 'Den Haag, Netherlands',\n",
       " 'Tijuana, Mexico',\n",
       " 'Colonie, NY',\n",
       " 'Pasadena, CA',\n",
       " 'Fort Collins, CO',\n",
       " 'Waldoboro, ME',\n",
       " 'Topeka, KS',\n",
       " 'Huntersville, NC',\n",
       " 'Lansing, MI',\n",
       " 'Great Falls, MT',\n",
       " 'Cooper City, FL',\n",
       " 'Bridgeport, CT',\n",
       " 'Vancouver, Canada',\n",
       " 'Redford, MI',\n",
       " 'Singapore, Singapore',\n",
       " 'Brentwood, NY',\n",
       " 'Amsterdam, Netherlands',\n",
       " 'Silver Spring, MD',\n",
       " 'Addis Ababa, Ethiopia',\n",
       " 'Santa Rosa, CA',\n",
       " 'Hollis, NH',\n",
       " 'Athens Clarke County, GA',\n",
       " 'Fort Worth, TX',\n",
       " 'Auckland, New Zealand',\n",
       " 'Paris, France',\n",
       " 'Homer, IL',\n",
       " 'Compton, CA',\n",
       " 'Napa, CA',\n",
       " '\\x92Û\\x8a\\x97_re, Sweden',\n",
       " 'Palos Verdes Estates, CA',\n",
       " 'Ouest, Haiti',\n",
       " 'Chelmsford, MA',\n",
       " 'Porterville, CA',\n",
       " 'Modesto, CA',\n",
       " 'Pacifica, CA',\n",
       " 'Iowa City, IA',\n",
       " 'South Portland, ME',\n",
       " 'Charleston, SC',\n",
       " 'Irvine, CA',\n",
       " 'Thousand Oaks, CA',\n",
       " 'Swansea, MA',\n",
       " 'Tracy, CA',\n",
       " 'Taylorstown, VA',\n",
       " 'Lakeland, FL',\n",
       " 'Villa Rica, GA',\n",
       " 'Davis, CA',\n",
       " 'London, United Kingdom',\n",
       " 'Branford, CT',\n",
       " 'Lake Forest, IL',\n",
       " 'North Hollywood, CA',\n",
       " 'Durham, NH',\n",
       " 'Vienna, Austria',\n",
       " 'Naples, FL',\n",
       " 'Istanbul, Turkey',\n",
       " 'San Leandro, CA',\n",
       " 'Santa Monica, CA',\n",
       " 'Fairfield, CT',\n",
       " 'Williamsburg, NY',\n",
       " 'Soho, NY',\n",
       " 'Bergenfield, NJ',\n",
       " 'Bellingham, WA',\n",
       " 'Sturgeon Bay, WI',\n",
       " 'Glasgow, United Kingdom',\n",
       " 'Chelsea, MI',\n",
       " 'Lafayette, CO',\n",
       " 'Old Saybrook, CT',\n",
       " 'Redmond, WA',\n",
       " 'Anaheim, CA',\n",
       " 'Kennebunk, ME',\n",
       " 'Northridge, CA',\n",
       " 'Valley Cottage, NY',\n",
       " 'Antioch, CA',\n",
       " 'Mountain Home, AR',\n",
       " 'Gardiner, Mt',\n",
       " 'Centralia, WA',\n",
       " 'Rutland, VT',\n",
       " 'Albuquerque, NM',\n",
       " 'Blanco, TX',\n",
       " 'Hawthorne, NJ',\n",
       " 'Firenze, Italy',\n",
       " 'Petaluma, CA',\n",
       " 'Wilmington, NC',\n",
       " 'Breckenridge, CO',\n",
       " 'Bronx, NY',\n",
       " '1, LA',\n",
       " 'Rockford, IL',\n",
       " 'Gallatin Gateway, Mt',\n",
       " 'Chapel Hill, NC',\n",
       " 'Santa Clarita, CA',\n",
       " 'Burlington, VT',\n",
       " 'Temecula, CA',\n",
       " 'Asbury Park, NJ',\n",
       " 'Goleta, CA',\n",
       " 'East Lansing, MI',\n",
       " 'Princeton, NJ',\n",
       " 'College Station, TX',\n",
       " 'Frisco, TX',\n",
       " 'Kinshasa, Congo',\n",
       " 'Lawrence, KS',\n",
       " 'Centennial, CO',\n",
       " 'East Village, NY',\n",
       " 'Taylor, MI',\n",
       " 'Winchester, VA',\n",
       " 'Simi Valley, CA',\n",
       " 'Old Lyme, CT',\n",
       " 'Sabillasville, MD',\n",
       " 'Medell\\x92ÛÎ_n, Colombia',\n",
       " 'Bethlehem, PA',\n",
       " 'Brevard, NC',\n",
       " 'Sayville, NY',\n",
       " 'Hilo, HI',\n",
       " 'Scottsdale, AZ',\n",
       " 'Marshall, MI',\n",
       " 'East Nashville, TN',\n",
       " 'St George, UT',\n",
       " 'Stroud, OK',\n",
       " 'Amherst, MA',\n",
       " 'Darjeeling, India',\n",
       " 'Eagleville, MO',\n",
       " 'East Hanover, NJ',\n",
       " 'Sachse, TX',\n",
       " 'Alum Rock, CA',\n",
       " 'British Columbia, Canada',\n",
       " 'Bogot\\x92ÛÎ\\x8d, Colombia',\n",
       " 'Ferndale, NY',\n",
       " 'Quincy, MA',\n",
       " 'Nevada City, CA',\n",
       " 'West Palm Beach, FL',\n",
       " 'Ulaanbaatar, Mongolia',\n",
       " 'Dudley, MA',\n",
       " 'Mesa, AZ',\n",
       " 'Eden Prairie, MN',\n",
       " 'Moorestown, NJ',\n",
       " 'Edgerton, WI',\n",
       " 'Oxford, MS',\n",
       " 'Palo Alto, CA',\n",
       " 'Globe, AZ',\n",
       " 'Fort White, FL',\n",
       " 'Labrador City, Canada',\n",
       " 'Plymouth, IN',\n",
       " 'Honolulu, HI',\n",
       " 'Berkeley, CA',\n",
       " 'Warendorf, Germany',\n",
       " 'Rocky Point, NY',\n",
       " 'Merritt Island, FL',\n",
       " 'Muncie, IN',\n",
       " 'Anoka, MN',\n",
       " 'Port Angeles, WA',\n",
       " 'Salem, MA',\n",
       " 'Pawtucket, RI',\n",
       " 'Buffalo, NY',\n",
       " 'Ogden, UT',\n",
       " 'Calgary, Canada',\n",
       " 'Conneaut, OH',\n",
       " 'Short Hills, NJ',\n",
       " 'Jerusalem, Israel',\n",
       " 'Mechanicsburg, PA',\n",
       " 'Champaign, IL',\n",
       " 'Riverside, CA',\n",
       " 'Purchase, NY',\n",
       " 'Norfolk, VA',\n",
       " 'Quitman, TX',\n",
       " 'Hancock, NY',\n",
       " 'Hatteras, NC',\n",
       " 'Hudson, NY',\n",
       " 'Memphis, TN',\n",
       " 'Findlay, OH',\n",
       " 'Fort Wayne, IN',\n",
       " 'Roseau, Dominica',\n",
       " 'Payson, AZ',\n",
       " 'Beijing, China',\n",
       " 'Fayetteville, NC',\n",
       " 'Newton, NJ',\n",
       " 'Hamilton, OH',\n",
       " 'Deerfield Beach, FL',\n",
       " 'Westfield, NC',\n",
       " 'Youngstown, OH',\n",
       " 'Mexico City, Mexico',\n",
       " 'Glen Burnie, MD',\n",
       " 'Portsmouth, VA',\n",
       " 'Harrisonburg, VA',\n",
       " 'West Des Moines, IA',\n",
       " 'Idaho Falls, ID',\n",
       " 'Cumming, GA',\n",
       " 'Randolph, NJ',\n",
       " 'Aliso Viejo, CA',\n",
       " 'Redkey, IN',\n",
       " 'Gardner, MA',\n",
       " 'Stevensville, MD',\n",
       " 'Swampscott, MA',\n",
       " 'Lenexa, KS',\n",
       " 'Damascus, OR',\n",
       " 'Des Moines, IA',\n",
       " 'Severna Park, MD',\n",
       " 'Vancouver, WA',\n",
       " 'Arlington, VA',\n",
       " 'Craig, CO',\n",
       " 'Helsinki, Finland',\n",
       " 'Hot Springs, AR',\n",
       " 'Praha 1, Czech Republic',\n",
       " 'Stoughton, MA',\n",
       " 'Ruidoso, NM',\n",
       " 'Lake Benton, MN',\n",
       " 'Leipzig, Germany',\n",
       " 'Mentor, OH',\n",
       " 'Roswell, NM',\n",
       " 'Issaquah, WA',\n",
       " 'Stehekin, WA',\n",
       " 'Tokyo, Japan',\n",
       " 'Babylon, NY',\n",
       " 'Rhinelander, WI',\n",
       " 'York, PA',\n",
       " 'Seabrook, TX',\n",
       " 'Laurel, MD',\n",
       " 'Jacksonport, WI',\n",
       " 'Pittsburg, KS',\n",
       " 'St Croix, Virgin Islands, U.S.',\n",
       " 'Berkeley, NJ',\n",
       " 'St Paul, MN',\n",
       " 'Tustin, CA',\n",
       " 'Canyon Lake, TX',\n",
       " 'Evanston, IL',\n",
       " 'Beirut, Lebanon',\n",
       " 'Aberdeen, WA',\n",
       " 'Aurora, IL',\n",
       " 'Niceville, FL',\n",
       " 'Clarksville, TN',\n",
       " 'Trenton, NJ',\n",
       " 'Winter Haven, FL',\n",
       " 'Arkadelphia, AR',\n",
       " 'Goshen, IN',\n",
       " 'Dubuque, IA',\n",
       " 'Tel Aviv, Israel',\n",
       " 'Rockville, MD',\n",
       " 'Lancaster, PA',\n",
       " 'Lakewood, CO',\n",
       " 'Valencia, CA',\n",
       " 'Corpus Christi, TX',\n",
       " 'Putney, VT',\n",
       " 'La Crescenta, CA',\n",
       " 'New Brunswick, NJ',\n",
       " 'New Hope, PA',\n",
       " 'Edmond, OK',\n",
       " 'Henderson, KY',\n",
       " 'Oak Park, IL',\n",
       " 'Waseca, MN',\n",
       " 'Athens, OH',\n",
       " 'Camp Hill, PA',\n",
       " 'Pleasant Hill, CA',\n",
       " 'Yerevan, Armenia',\n",
       " 'Angwin, CA',\n",
       " 'Vienna, VA',\n",
       " 'Cuzco, Peru',\n",
       " 'Hill City, SD',\n",
       " 'Malibu, CA',\n",
       " 'Suwanee, GA',\n",
       " 'Kingsport, TN',\n",
       " 'West Orange, NJ',\n",
       " 'Lisbon, Portugal',\n",
       " 'Edmonton, Canada',\n",
       " 'Neah Bay, WA',\n",
       " 'Longwood, FL',\n",
       " 'Oxford, PA',\n",
       " 'San Jacinto, CA',\n",
       " 'Boynton Beach, FL',\n",
       " 'Visalia, CA',\n",
       " 'Roanoke, VA',\n",
       " 'Dumont, NJ',\n",
       " 'Ayden, NC',\n",
       " 'Worcester, MA',\n",
       " 'Bedford, TX',\n",
       " 'Portola Valley, CA',\n",
       " 'Nashua, NH',\n",
       " 'Lyons, IL',\n",
       " 'Norcross, GA',\n",
       " 'Michiana, MI',\n",
       " 'Melbourne, FL',\n",
       " 'Thurmont, MD',\n",
       " 'San Buenaventura (Ventura), CA',\n",
       " 'Pinetop, AZ',\n",
       " 'Gerlach Empire, NV',\n",
       " 'Doha, Qatar',\n",
       " 'St Petersburg, FL',\n",
       " 'Huntsville, AL',\n",
       " 'Binghamton, NY',\n",
       " 'Andover, NJ',\n",
       " 'Alfred, NY',\n",
       " 'Imlay, NV',\n",
       " 'Minden, NV',\n",
       " 'Ellensburg, WA',\n",
       " 'Morro Bay, CA',\n",
       " 'Keokuk, IA',\n",
       " 'Merced, CA',\n",
       " 'Campbell, CA',\n",
       " 'Jersey City, NJ',\n",
       " 'Ocala, FL',\n",
       " 'Los Gatos, CA',\n",
       " 'Placerville, CA',\n",
       " 'Little Rock, AR',\n",
       " 'Winter Park, FL',\n",
       " 'South Lake Tahoe, CA',\n",
       " 'Huntington, NY',\n",
       " 'Casablanca, Morocco',\n",
       " 'Cleveland, MS',\n",
       " 'Aurora, CO',\n",
       " 'Whangarei, New Zealand',\n",
       " 'Minnetonka, MN',\n",
       " 'Folsom, CA',\n",
       " 'Alturas, CA',\n",
       " 'Belfast, United Kingdom',\n",
       " 'Calabasas, CA',\n",
       " 'Cambridge, United Kingdom',\n",
       " 'Seagrove, NC',\n",
       " 'Twisp, WA',\n",
       " 'Rome, Italy',\n",
       " 'Mold, United Kingdom',\n",
       " 'Fort De France, Martinique',\n",
       " 'San Marcos, TX',\n",
       " 'Menasha, WI',\n",
       " 'Lindenhurst, NY',\n",
       " 'Daytona Beach, FL',\n",
       " 'Allentown, PA',\n",
       " 'Reading, PA',\n",
       " 'Severn, MD',\n",
       " 'Niland, CA',\n",
       " 'Livingston, MT',\n",
       " 'Hershey, PA',\n",
       " 'Byron Bay, Australia',\n",
       " 'Greenpoint, NY',\n",
       " 'Powder Springs, GA',\n",
       " 'New Paltz, NY',\n",
       " 'Clinton, CT',\n",
       " 'Fullerton, CA',\n",
       " 'Palm Springs, CA',\n",
       " 'Georgetown, IN',\n",
       " 'Sarasota, FL',\n",
       " 'Camden, DE',\n",
       " 'San Juan, Puerto Rico',\n",
       " 'Hillsboro, OR',\n",
       " 'Miami Gardens, FL',\n",
       " 'Pacific Grove, CA',\n",
       " 'Cary, NC',\n",
       " 'Sugar Hill, GA',\n",
       " 'Woodland, WA',\n",
       " 'Desloge, MO',\n",
       " 'Shenandoah, PA',\n",
       " 'San Bernardo, Chile',\n",
       " 'Kaysville, UT',\n",
       " 'Harrisburg, PA',\n",
       " 'Bloomfield, NJ',\n",
       " 'Endicott, NY',\n",
       " 'Siler City, NC',\n",
       " 'New London, NH',\n",
       " 'Johnson, VT',\n",
       " 'Pensacola, FL',\n",
       " 'Hammond, LA',\n",
       " 'Maysville, KY',\n",
       " 'Athens, GA',\n",
       " 'Kabul, Afghanistan',\n",
       " 'Ridgewood, NY',\n",
       " 'Barre, VT',\n",
       " 'Wisconsin Dells, WI',\n",
       " 'Lake Charles, LA',\n",
       " 'Bethpage, NY',\n",
       " 'Erie, PA',\n",
       " 'Norwich, CT',\n",
       " 'White Plains, NY',\n",
       " 'Cedar City, UT',\n",
       " 'Randers, Denmark',\n",
       " 'Neosho, MO',\n",
       " 'Santiago, Chile',\n",
       " 'Mc Donough, GA',\n",
       " 'East Stroudsburg, PA',\n",
       " 'Marietta, GA',\n",
       " 'Costa Mesa, CA',\n",
       " 'Fort Mill, SC',\n",
       " 'Hopkins, MI',\n",
       " 'Laguna Niguel, CA',\n",
       " 'Kent, OH',\n",
       " 'Carrollton, GA',\n",
       " 'Brewster, MA',\n",
       " 'Eureka, CA',\n",
       " 'State College, PA',\n",
       " 'Johannesburg, South Africa',\n",
       " 'Sherman Oaks, CA',\n",
       " 'Amarillo, TX',\n",
       " 'Jackson, TN',\n",
       " 'Layton, NJ',\n",
       " 'Mcleodganj, India',\n",
       " 'Redondo Beach, CA',\n",
       " 'Wilton, CT',\n",
       " 'Chesapeake, VA',\n",
       " 'Hermosa Beach, CA',\n",
       " 'Georgetown, TX',\n",
       " 'H\\x92Ä\\x8aÜ¢ibiny, Czech Republic',\n",
       " 'Gaithersburg, MD',\n",
       " 'Ishinomaki, Japan',\n",
       " 'Edgewater, FL',\n",
       " 'Peterborough, NH',\n",
       " 'Indio, CA',\n",
       " 'Pendleton, IN',\n",
       " 'Venice, FL',\n",
       " 'Newark, NJ',\n",
       " 'Cody, WY',\n",
       " 'Bonita Springs, FL',\n",
       " 'Carbondale, IL',\n",
       " 'Ellijay, GA',\n",
       " 'Mission, SD',\n",
       " 'Scranton, PA',\n",
       " 'Bay City, MI',\n",
       " 'Yankton, SD',\n",
       " 'Kingston, Jamaica',\n",
       " 'Greeley, CO',\n",
       " 'Hastings On Hudson, NY',\n",
       " 'Layton, UT',\n",
       " 'Arlington, TX',\n",
       " 'Chicago Metropolitan Area, IL',\n",
       " 'Sulphur, OK',\n",
       " 'Mendham, NJ',\n",
       " 'Fajardo, Puerto Rico',\n",
       " 'Idyllwild, CA',\n",
       " 'Artesia, NM',\n",
       " 'Tybee Island, GA',\n",
       " 'Yellow Springs, OH',\n",
       " 'Melbourne, Australia',\n",
       " 'Monterey, CA',\n",
       " 'Owosso, MI',\n",
       " 'Haleiwa, HI',\n",
       " 'Gilroy, CA',\n",
       " 'Marshall, NC',\n",
       " 'Rice Lake, WI',\n",
       " 'Overland Park, KS',\n",
       " 'La Habana, Cuba',\n",
       " 'Franklin, VT',\n",
       " 'Concord, OH',\n",
       " 'Belmar, NJ',\n",
       " 'Dix Hills, NY',\n",
       " 'Moshi, Tanzania',\n",
       " 'Harpers Ferry, WV',\n",
       " 'Easthampton, MA',\n",
       " 'Ponder, TX',\n",
       " 'Troy, MI',\n",
       " 'Gulfport, MS',\n",
       " 'Chambersburg, PA',\n",
       " 'Duisburg, Germany',\n",
       " 'Mastic, NY',\n",
       " 'Watertown, MA',\n",
       " 'Washington Court House, OH',\n",
       " 'Mahabalipuram, India',\n",
       " 'Bozeman, MT',\n",
       " 'Bellevue, WA',\n",
       " 'Waco, TX',\n",
       " 'Newberg, OR',\n",
       " 'Columbia, MD',\n",
       " 'Aqt\\x92ÛÎ_be, Kazakhstan',\n",
       " 'Stockholm, Sweden',\n",
       " 'Sidney, NE',\n",
       " 'Raymond, NH',\n",
       " 'Lusaka, Zambia',\n",
       " 'Euclid, OH',\n",
       " 'New Delhi, India',\n",
       " 'Peoria, AZ',\n",
       " 'Barrie, Canada',\n",
       " 'Edinburgh, United Kingdom',\n",
       " 'Basel, Switzerland',\n",
       " 'Santa Barbara, CA',\n",
       " 'Plainfield, NJ',\n",
       " 'Los Banos, CA',\n",
       " 'Richmond, United Kingdom',\n",
       " 'Jersey City, NY',\n",
       " 'Fayetteville, AR',\n",
       " 'Sandy, UT',\n",
       " 'Redlands, CA',\n",
       " 'Kingston, WA',\n",
       " 'Hyattsville, MD',\n",
       " 'Hemet, CA',\n",
       " 'Cairo, Egypt',\n",
       " 'Rocky Mt, NC',\n",
       " 'Salinas, CA',\n",
       " 'Lexington, KY',\n",
       " 'Brighton, MA',\n",
       " 'Negril, Jamaica',\n",
       " 'Hamilton, NJ',\n",
       " 'Shanghai, China',\n",
       " 'Phillipsburg, NJ',\n",
       " 'Longyearbyen, Svalbard and Jan Mayen',\n",
       " 'Aptos, CA',\n",
       " 'Flagstaff, AZ',\n",
       " 'Saginaw, MI',\n",
       " 'Kissimmee, FL',\n",
       " 'Sankt Wendel, Germany',\n",
       " 'Sandy, OR',\n",
       " 'Marble, CO',\n",
       " 'North Bend, OR',\n",
       " 'Orange, CA',\n",
       " 'Diamond Bar, CA',\n",
       " 'Colonia, NJ',\n",
       " 'Birmingham, United Kingdom',\n",
       " 'Peoria Heights, IL',\n",
       " 'Xiamen, China',\n",
       " 'Viroqua, WI',\n",
       " 'Placentia, CA',\n",
       " 'Boone, NC',\n",
       " 'Bar Harbor, ME',\n",
       " 'Bedford, IA',\n",
       " 'Esopus, NY',\n",
       " 'Gilbert, AZ',\n",
       " 'Half Moon Bay, CA',\n",
       " 'Scituate, RI',\n",
       " 'Munster, IN',\n",
       " 'Middlebury, VT',\n",
       " 'Jacmel, Haiti',\n",
       " 'Benton Harbor, MI',\n",
       " 'Quito, Ecuador',\n",
       " 'Grand Junction, CO',\n",
       " 'Pleasant Valley, NY',\n",
       " 'Fortuna, CA',\n",
       " 'View Park Windsor Hills, CA',\n",
       " 'Denmark, ME',\n",
       " 'Oceanside, CA',\n",
       " 'Fargo, ND',\n",
       " 'Kolkata, India',\n",
       " 'Livonia, MI',\n",
       " 'Keaau, HI',\n",
       " 'Monrovia, Liberia',\n",
       " 'Lewisville, TX',\n",
       " 'Jonesborough, TN',\n",
       " 'Crested Butte, CO',\n",
       " 'Woodland, CA',\n",
       " 'Augusta, GA',\n",
       " 'Myrtle Beach, SC',\n",
       " 'Accra, Ghana',\n",
       " 'Northport, NY',\n",
       " 'Venice, Italy',\n",
       " 'Montville, CT',\n",
       " 'Glenview, IL',\n",
       " 'Coffeyville, KS',\n",
       " 'De Land, FL',\n",
       " 'Willow Springs, MO',\n",
       " 'Prescott, AZ',\n",
       " 'Ojai, CA',\n",
       " 'Candelaria, Nicaragua',\n",
       " 'Brawley, CA',\n",
       " 'Williamsport, PA',\n",
       " 'Mobile, AL',\n",
       " 'Page, AZ',\n",
       " 'Orono, ME',\n",
       " 'Bordentown, NJ',\n",
       " 'Climax, MI',\n",
       " 'El Cajon, CA',\n",
       " 'Dharamshala, India',\n",
       " 'Summit, NJ',\n",
       " 'Moscow, Russia',\n",
       " 'Franklin, TN',\n",
       " 'Fredonia, NY',\n",
       " 'Cannes, France',\n",
       " 'Marfa, TX',\n",
       " 'Pagosa Springs, CO',\n",
       " 'Grand Canyon, AZ',\n",
       " 'Nederland, CO',\n",
       " 'Littleton, CO',\n",
       " 'King Of Prussia, PA',\n",
       " 'Ellsworth, ME',\n",
       " 'Frederickson, WA',\n",
       " 'Deltona, FL',\n",
       " 'Bartlesville, OK',\n",
       " 'Hilliard, OH',\n",
       " 'Kiev, Ukraine',\n",
       " 'Mystic, CT',\n",
       " 'Urbandale, IA',\n",
       " 'Lindenberg, Germany',\n",
       " 'Everett, WA',\n",
       " 'Chaumont Sur Loire, France',\n",
       " 'Los Altos, CA',\n",
       " 'La Jolla, CA',\n",
       " 'Keene, NH',\n",
       " 'Kalamazoo, MI',\n",
       " 'Talca, Chile',\n",
       " 'Oberlin, OH',\n",
       " 'Paducah, KY',\n",
       " 'Miami Beach, FL',\n",
       " 'Piermont, NY',\n",
       " 'Spring Valley, NY',\n",
       " 'Marion, IN',\n",
       " 'Ontario, Canada',\n",
       " 'Gettysburg, PA',\n",
       " 'Green Bay, WI',\n",
       " 'Mt Gilead, OH',\n",
       " 'Wilmington, DE',\n",
       " 'Carlisle, PA',\n",
       " 'Tacoma, WA',\n",
       " 'Sofia, Bulgaria',\n",
       " 'Richmond, KY',\n",
       " 'Seoul, South Korea',\n",
       " 'Quattro Castella, Italy',\n",
       " 'Monroe Township, NJ',\n",
       " 'Chengdu, China',\n",
       " 'Truckee, CA',\n",
       " 'Mt Pleasant, MI',\n",
       " 'Castleton, VT',\n",
       " 'Auburn, AL',\n",
       " 'Coupeville, WA',\n",
       " 'Salvador, Brazil',\n",
       " 'Grafton, MA',\n",
       " 'Durango, CO',\n",
       " 'South San Francisco, CA',\n",
       " 'Union, NJ',\n",
       " 'Whittier, CA',\n",
       " 'Eureka Springs, AR',\n",
       " 'Papua, Indonesia',\n",
       " 'Shreveport, LA',\n",
       " 'Kigali, Rwanda',\n",
       " 'Oviedo, FL',\n",
       " 'Jim Thorpe, PA',\n",
       " 'Superior, WI',\n",
       " 'North Adams, MA',\n",
       " 'Troy, OH',\n",
       " 'Largo, MD',\n",
       " 'Leesburg, FL',\n",
       " 'Bayonne, NJ',\n",
       " 'Murray, KY',\n",
       " 'Johnson City, TN',\n",
       " 'Anderson, IN',\n",
       " 'Mabton, WA',\n",
       " 'Appleton, WI',\n",
       " 'Effingham, IL',\n",
       " 'Hookstown, PA',\n",
       " 'Katy, TX',\n",
       " 'Elkton, OR',\n",
       " 'Scarsdale, NY',\n",
       " 'Hattiesburg, MS',\n",
       " 'De Kalb, IL',\n",
       " 'Castelvetrano, Italy',\n",
       " 'Jackson, KY',\n",
       " 'Skokie, IL',\n",
       " 'Rapid City, SD',\n",
       " 'Salem, OR',\n",
       " 'Staunton, VA',\n",
       " 'Davie, FL',\n",
       " 'Tigard, OR',\n",
       " 'Frederick, MD',\n",
       " 'Tahoe Vista, CA',\n",
       " 'Tiberias, Israel',\n",
       " 'Plattsburgh, NY',\n",
       " 'Corvallis, OR',\n",
       " 'Salzburg, Austria',\n",
       " 'Mission Viejo, CA',\n",
       " 'Barcelona, Spain',\n",
       " 'Graham, NC',\n",
       " 'Highland, IL',\n",
       " 'Andover, CT',\n",
       " 'Silverton, OR',\n",
       " 'Flamingo, Costa Rica',\n",
       " 'Evergreen, CO',\n",
       " 'Walpole, MA',\n",
       " 'Pite\\x92ÛÎÇ Municipality, Sweden',\n",
       " 'Phenix City, AL',\n",
       " 'Bronxville, NY',\n",
       " 'Sonora, CA',\n",
       " 'Yucca Valley, CA',\n",
       " 'Flanders, NJ',\n",
       " 'Milwaukie, OR',\n",
       " 'Urbana, IL',\n",
       " 'Glens Falls, NY',\n",
       " 'Muskegon, MI',\n",
       " 'Frankfort, KY',\n",
       " 'Glendale, CA',\n",
       " 'Beaver Dam, WI',\n",
       " 'Carbondale, CO',\n",
       " 'Wills Point, TX',\n",
       " 'The Woodlands, TX',\n",
       " 'Pittsfield, MA',\n",
       " 'Huntington Woods, MI',\n",
       " 'Angeles City, Philippines',\n",
       " 'Pleasant Grove, UT',\n",
       " 'Becket, MA',\n",
       " 'Belchertown, MA',\n",
       " 'Vallejo, CA',\n",
       " 'Kfar Saba, Israel',\n",
       " 'Newburgh, NY',\n",
       " 'Central, MN',\n",
       " 'Manchester, NH',\n",
       " 'Elizabethtown, PA',\n",
       " 'Astoria, NY',\n",
       " 'Las Vegas, NM',\n",
       " 'San Miguel Panixtlahuaca, Mexico',\n",
       " 'Dickinson, TX',\n",
       " 'Plano, TX',\n",
       " 'West Warwick, RI',\n",
       " 'Karachi, Pakistan',\n",
       " 'Essex Junction, VT',\n",
       " 'Macungie, PA',\n",
       " 'Mahwah, NJ',\n",
       " 'Rio De Janeiro, Brazil',\n",
       " 'Kansas City, KS',\n",
       " 'Fairfax, VA',\n",
       " 'Cheltenham, PA',\n",
       " 'Carrollton, TX',\n",
       " 'Wixom, MI',\n",
       " 'Mankato, MN',\n",
       " 'Manalapan, NJ',\n",
       " 'East Hampton, NY',\n",
       " 'Richmond, CA',\n",
       " 'Cold Spring, NY',\n",
       " 'Dearborn, MI',\n",
       " 'Middletown, CT',\n",
       " 'Newman, CA',\n",
       " 'Kennewick, WA',\n",
       " 'Seneca, SC',\n",
       " 'San Salvador, El Salvador',\n",
       " 'Murrieta, CA',\n",
       " 'Greenwich, NY',\n",
       " 'Pottsville, PA',\n",
       " 'Manitou Springs, CO',\n",
       " 'Statesboro, GA',\n",
       " 'Kearny, NJ',\n",
       " ...]"
      ]
     },
     "execution_count": 25,
     "metadata": {},
     "output_type": "execute_result"
    }
   ],
   "source": [
    "# Print locations\n",
    "df['location'].unique().tolist()"
   ]
  },
  {
   "cell_type": "markdown",
   "metadata": {},
   "source": [
    "### b. Skew of the distribution\n",
    "The skew shows the level of the distortion from the symmetry bell curve or the normal distribution. "
   ]
  },
  {
   "cell_type": "code",
   "execution_count": 26,
   "metadata": {},
   "outputs": [
    {
     "name": "stdout",
     "output_type": "stream",
     "text": [
      "The skew is 84.64\n"
     ]
    }
   ],
   "source": [
    "#Checking Data Skew\n",
    "backers_skew = df['backers'].skew()\n",
    "print(f'The skew is {round(backers_skew,2)}')"
   ]
  },
  {
   "cell_type": "markdown",
   "metadata": {},
   "source": [
    "The skew indicates that the data is highly skewed (superior than 1). "
   ]
  },
  {
   "cell_type": "markdown",
   "metadata": {},
   "source": [
    "## Is the 'duration' variable normal distributed?"
   ]
  },
  {
   "cell_type": "markdown",
   "metadata": {},
   "source": [
    "### a. Histogram"
   ]
  },
  {
   "cell_type": "markdown",
   "metadata": {},
   "source": [
    "There are a couple of ways to test if our data has a normal distribution. We can start with the simple and easiest one, histogram. Through the histogram we can check if our data is symetrical, has a bell shape, and if the mean and median are coincident."
   ]
  },
  {
   "cell_type": "code",
   "execution_count": 27,
   "metadata": {},
   "outputs": [
    {
     "data": {
      "text/plain": [
       "<seaborn.axisgrid.FacetGrid at 0x7f970d21c350>"
      ]
     },
     "execution_count": 27,
     "metadata": {},
     "output_type": "execute_result"
    },
    {
     "data": {
      "image/png": "[encoded data removed]",
      "text/plain": [
       "<Figure size 360x360 with 1 Axes>"
      ]
     },
     "metadata": {
      "needs_background": "light"
     },
     "output_type": "display_data"
    }
   ],
   "source": [
    "sns.displot(df['duration'], kde = True)"
   ]
  },
  {
   "cell_type": "markdown",
   "metadata": {},
   "source": [
    "The shape of the histogram is not specifically defined, but we can note that is trimodal, havind three separated classes or intervals, representing the maximum frequency of the distribution."
   ]
  },
  {
   "cell_type": "markdown",
   "metadata": {},
   "source": [
    "### b. Boxplot"
   ]
  },
  {
   "cell_type": "markdown",
   "metadata": {},
   "source": [
    "Boxplot is another way to visualize data and have an idea about it's distribution. "
   ]
  },
  {
   "cell_type": "code",
   "execution_count": 28,
   "metadata": {},
   "outputs": [
    {
     "data": {
      "text/plain": [
       "<AxesSubplot:xlabel='duration'>"
      ]
     },
     "execution_count": 28,
     "metadata": {},
     "output_type": "execute_result"
    },
    {
     "data": {
      "image/png": "[encoded data removed]",
      "text/plain": [
       "<Figure size 432x288 with 1 Axes>"
      ]
     },
     "metadata": {
      "needs_background": "light"
     },
     "output_type": "display_data"
    }
   ],
   "source": [
    "#plt.boxplot(df.duration, meanline = True, vert = False)\n",
    "sns.boxplot(x=df['duration'], palette='flare')"
   ]
  },
  {
   "cell_type": "markdown",
   "metadata": {},
   "source": [
    "The above image shows that the median is not centred in the boxplot and is not coincident with the mean, is located near the bottom 25% range. The boxplot is left-skeweed what indicates that the data doesn't follow a normal distribution. Outliers are also easly indentified representing a bigger number on the right side of the boxplot, comparing with the left side. "
   ]
  },
  {
   "cell_type": "markdown",
   "metadata": {},
   "source": [
    "# Part 2: Qualitative Analysis"
   ]
  },
  {
   "cell_type": "markdown",
   "metadata": {},
   "source": [
    "## What's the best length of time to run a campaign?"
   ]
  },
  {
   "cell_type": "code",
   "execution_count": 29,
   "metadata": {},
   "outputs": [
    {
     "data": {
      "text/plain": [
       "Text(0.5, 1.0, 'Optimal duration of the project')"
      ]
     },
     "execution_count": 29,
     "metadata": {},
     "output_type": "execute_result"
    },
    {
     "data": {
      "image/png": "[encoded data removed]",
      "text/plain": [
       "<Figure size 576x216 with 1 Axes>"
      ]
     },
     "metadata": {
      "needs_background": "light"
     },
     "output_type": "display_data"
    }
   ],
   "source": [
    "#Define bar plot\n",
    "colors = ('darkgreen','darkred')\n",
    "dur = df.groupby('successful')['duration'].mean().sort_values()\n",
    "dur.plot(kind = 'barh', figsize = (8, 3), color = colors,  zorder=2, width=0.3)\n",
    "\n",
    "# Set axis label\n",
    "plt.xlabel('Duration', fontsize = 15)\n",
    "plt.ylabel('Status', fontsize = 15)\n",
    "plt.title('Optimal duration of the project', fontsize = 20)\n"
   ]
  },
  {
   "cell_type": "markdown",
   "metadata": {},
   "source": [
    "Projects on Kickstarter can last on average from 1 - 50 days. Campaigns with shorter durations show higher success rate."
   ]
  },
  {
   "cell_type": "markdown",
   "metadata": {},
   "source": [
    "## What's the ideal pledge goal?"
   ]
  },
  {
   "cell_type": "code",
   "execution_count": 30,
   "metadata": {},
   "outputs": [
    {
     "data": {
      "text/plain": [
       "Text(0.5, 1.0, 'Pledge Goal')"
      ]
     },
     "execution_count": 30,
     "metadata": {},
     "output_type": "execute_result"
    },
    {
     "data": {
      "image/png": "[encoded data removed]",
      "text/plain": [
       "<Figure size 576x216 with 1 Axes>"
      ]
     },
     "metadata": {
      "needs_background": "light"
     },
     "output_type": "display_data"
    }
   ],
   "source": [
    "#Define bar plot\n",
    "colors = ('darkgreen','darkred')\n",
    "dur = df.groupby('successful')['goal'].mean().sort_values()\n",
    "dur.plot(kind = 'barh', figsize = (8, 3), color = colors,  zorder=2, width=0.3)\n",
    "\n",
    "# Set axis label\n",
    "plt.xlabel('Pledge Goal', fontsize = 12)\n",
    "plt.ylabel('Status', fontsize = 12)\n",
    "plt.title('Pledge Goal', fontsize = 20)"
   ]
  },
  {
   "cell_type": "code",
   "execution_count": 31,
   "metadata": {},
   "outputs": [
    {
     "name": "stdout",
     "output_type": "stream",
     "text": [
      "The ideal pledge goal is $ 5524.55\n"
     ]
    }
   ],
   "source": [
    "#Goal mean of the successful projects\n",
    "mean_suc = round(df.groupby('successful')['goal'].mean().loc[1],2)\n",
    "print(f'The ideal pledge goal is $ {mean_suc}')"
   ]
  },
  {
   "cell_type": "markdown",
   "metadata": {},
   "source": [
    "The graphic shows that the projects with lower pledge have more chances to preform better.\n",
    "Let's have a look in the relationship between project's goal and actual amount pledge, the graphic below visualizes both the goal and amount pledge for each project and the individual state of the project."
   ]
  },
  {
   "cell_type": "code",
   "execution_count": 32,
   "metadata": {},
   "outputs": [
    {
     "data": {
      "text/plain": [
       "[Text(0.5, 0, 'Amount Pledged in Millions'),\n",
       " Text(0, 0.5, 'Goal in Millions'),\n",
       " Text(0.5, 1.0, 'Goal vs. Pledged')]"
      ]
     },
     "execution_count": 32,
     "metadata": {},
     "output_type": "execute_result"
    },
    {
     "data": {
      "image/png": "[encoded data removed]",
      "text/plain": [
       "<Figure size 432x288 with 1 Axes>"
      ]
     },
     "metadata": {
      "needs_background": "light"
     },
     "output_type": "display_data"
    }
   ],
   "source": [
    "#define colors (darkgreen for successful projects and darkred for failed ones\n",
    "colors = ('darkgreen','darkred')\n",
    "#create a plot using seaborn, adjust data to millions\n",
    "ax = sns.scatterplot(x = df.pledged/1e6, y = df.goal/1e6, hue=df.successful, palette=colors)\n",
    "#add blue line to better visualize the border between failed and successful projects\n",
    "sns.lineplot(x=(0,1.5), y=(0,1.5), color='darkblue')\n",
    "#set the axes from -1 to their maximum (-1 looks better than 0 actually)\n",
    "ax.set(ylim=(-0.1,1.5), xlim=(-0.1,1.5))\n",
    "#set labels and title\n",
    "ax.set(xlabel='Amount Pledged in Millions', ylabel='Goal in Millions', title= 'Goal vs. Pledged')"
   ]
  },
  {
   "cell_type": "markdown",
   "metadata": {},
   "source": [
    "The graph suggests that unsuccessful projects usually fail without getting close to their goal, meaning that they “do not move horizontally towards the blue line but stay at x~0”. This leads to the conclusion that Kickstarter is an “all or nothing” platform, what we can confirm on the platform website. If you don’t make it, you probably didn’t even come close. On the other hand, many successful projects exceed their stated goal by far and pledge a multiple of their initial goal."
   ]
  },
  {
   "cell_type": "markdown",
   "metadata": {},
   "source": [
    "## What type of projects would be most successful at getting funded?"
   ]
  },
  {
   "cell_type": "code",
   "execution_count": 33,
   "metadata": {},
   "outputs": [
    {
     "data": {
      "text/plain": [
       "['Film & Video',\n",
       " 'Games',\n",
       " 'Fashion',\n",
       " 'Music',\n",
       " 'Art',\n",
       " 'Dance',\n",
       " 'Publishing',\n",
       " 'Theater',\n",
       " 'Comics',\n",
       " 'Technology',\n",
       " 'Design',\n",
       " 'Photography',\n",
       " 'Food',\n",
       " 'Film &amp; Video']"
      ]
     },
     "execution_count": 33,
     "metadata": {},
     "output_type": "execute_result"
    }
   ],
   "source": [
    "# Print categories\n",
    "df['category'].unique().tolist()"
   ]
  },
  {
   "cell_type": "code",
   "execution_count": 34,
   "metadata": {},
   "outputs": [
    {
     "data": {
      "image/png": "[encoded data removed]",
      "text/plain": [
       "<Figure size 720x360 with 1 Axes>"
      ]
     },
     "metadata": {
      "needs_background": "light"
     },
     "output_type": "display_data"
    }
   ],
   "source": [
    "# Plot showing the percentage of Success\n",
    "sns.catplot(y='successful', x= 'category', data=df, kind='bar', ci = None, aspect = 2)\n",
    "plt.xlabel('Percentage of Success', fontsize = 15)\n",
    "plt.ylabel('Category', fontsize = 15)\n",
    "plt.title('Success by Category', fontsize = 20)\n",
    "plt.show()"
   ]
  },
  {
   "cell_type": "markdown",
   "metadata": {},
   "source": [
    "The category with more success is Dance."
   ]
  },
  {
   "cell_type": "markdown",
   "metadata": {},
   "source": [
    "## Is there any ideal month/day/time to launch a campaign?"
   ]
  },
  {
   "cell_type": "code",
   "execution_count": 35,
   "metadata": {},
   "outputs": [],
   "source": [
    "# Create 'funded_month' column based on datetime conversion from 'funded_date' column\n",
    "df['funded_month'] = df['funded_date'].apply(lambda x: dt.datetime.strptime(x, '%a, %d %b %Y %X -%f').strftime('%B'))\n",
    "# Create 'funded_weekday' column based on datetime conversion from 'funded_date' column\n",
    "df['funded_weekday'] = df['funded_date'].apply(lambda x: dt.datetime.strptime(x, '%a, %d %b %Y %X -%f').strftime('%a'))\n",
    "# Create 'funded_hour column based on datetime conversion from 'funded_date' column\n",
    "df['funded_hour'] = df['funded_date'].apply(lambda x: dt.datetime.strptime(x, '%a, %d %b %Y %H:%M:%S -%f').strftime('%H'))"
   ]
  },
  {
   "cell_type": "code",
   "execution_count": 36,
   "metadata": {},
   "outputs": [
    {
     "data": {
      "image/png": "[encoded data removed]",
      "text/plain": [
       "<Figure size 648x360 with 1 Axes>"
      ]
     },
     "metadata": {
      "needs_background": "light"
     },
     "output_type": "display_data"
    }
   ],
   "source": [
    "# Plot showing rates of success by Month\n",
    "sns.catplot(y='successful', x='funded_month', data = df, kind='bar', ci = None, aspect = 1.8)\n",
    "plt.xlabel('Month of Funding', fontsize = 15)\n",
    "plt.ylabel('Percentage of Success', fontsize = 15)\n",
    "plt.title('Success by Funding Month', fontsize = 20)\n",
    "plt.show()"
   ]
  },
  {
   "cell_type": "code",
   "execution_count": 37,
   "metadata": {},
   "outputs": [
    {
     "data": {
      "image/png": "[encoded data removed]",
      "text/plain": [
       "<Figure size 648x360 with 1 Axes>"
      ]
     },
     "metadata": {
      "needs_background": "light"
     },
     "output_type": "display_data"
    }
   ],
   "source": [
    "# Plot showing rates of success by Weekday\n",
    "sns.catplot(y='successful', x='funded_weekday', data = df, kind='bar', ci = None, aspect = 1.8)\n",
    "plt.xlabel('Day of Funding', fontsize = 15)\n",
    "plt.ylabel('Percentage of Success', fontsize = 15)\n",
    "plt.title('Success by Funding Weekday', fontsize = 20)\n",
    "plt.show()"
   ]
  },
  {
   "cell_type": "code",
   "execution_count": 38,
   "metadata": {},
   "outputs": [
    {
     "data": {
      "image/png": "[encoded data removed]",
      "text/plain": [
       "<Figure size 648x360 with 1 Axes>"
      ]
     },
     "metadata": {
      "needs_background": "light"
     },
     "output_type": "display_data"
    }
   ],
   "source": [
    "# Plot showing rates of success by Hour\n",
    "sns.catplot(y='successful', x='funded_hour', data = df, kind='bar', ci = None, aspect = 1.8)\n",
    "plt.xlabel('Hour of Funding', fontsize = 15)\n",
    "plt.ylabel('Percentage of Success', fontsize = 15)\n",
    "plt.title('Success by Funding Hour', fontsize = 20)\n",
    "plt.show()"
   ]
  },
  {
   "cell_type": "code",
   "execution_count": 39,
   "metadata": {},
   "outputs": [],
   "source": [
    "# Create 'funded_month' column based on datetime conversion from 'funded_date' column\n",
    "df['funded_year'] = df['funded_date'].apply(lambda x: dt.datetime.strptime(x, '%a, %d %b %Y %X -%f').strftime('%Y'))"
   ]
  },
  {
   "cell_type": "code",
   "execution_count": 40,
   "metadata": {
    "scrolled": true
   },
   "outputs": [
    {
     "data": {
      "image/png": "[encoded data removed]",
      "text/plain": [
       "<Figure size 648x360 with 1 Axes>"
      ]
     },
     "metadata": {
      "needs_background": "light"
     },
     "output_type": "display_data"
    }
   ],
   "source": [
    "# Plot showing rates of success by Year\n",
    "sns.catplot(y='successful', x='funded_year', data = df, kind='bar', ci = None, aspect = 1.8)\n",
    "plt.xlabel('Year of Funding', fontsize = 15)\n",
    "plt.ylabel('Percentage of Success', fontsize = 15)\n",
    "plt.title('Success by Funding Year', fontsize = 20)\n",
    "plt.show()"
   ]
  },
  {
   "cell_type": "code",
   "execution_count": null,
   "metadata": {},
   "outputs": [],
   "source": []
  }
 ],
 "metadata": {
  "kernelspec": {
   "display_name": "Python 3",
   "language": "python",
   "name": "python3"
  },
  "language_info": {
   "codemirror_mode": {
    "name": "ipython",
    "version": 3
   },
   "file_extension": ".py",
   "mimetype": "text/x-python",
   "name": "python",
   "nbconvert_exporter": "python",
   "pygments_lexer": "ipython3",
   "version": "3.7.4"
  }
 },
 "nbformat": 4,
 "nbformat_minor": 4
}
